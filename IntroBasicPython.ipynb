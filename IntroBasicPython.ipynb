{
 "cells": [
  {
   "cell_type": "markdown",
   "metadata": {},
   "source": [
    "# Python Basic\n",
    "In this Jupyter Notebook I will highlight the basic classes, some methods and functions in Python.  \n",
    "You can copy this Jupyter Notebook to practice on your own.  \n",
    "\n",
    "### Overview Of Words Used:\n",
    "Let's look at some of the words I use to discribe Python class fuctions and methods.  \n",
    "* Mutability - refers to the ability to change or alter (I use = mutable).  \n",
    "* Immutable - unchanged over time or unable to be changed.  \n",
    "* Interpret - Preforms the action of turning Python language into basic computer code to be executed (I use = Python Interpreter)  \n",
    "* Variable - Data item that may take on more than one value - In Python, it is a name we give to store our values in. Like a container or box that holds our data (values) and the variable is the name of that container or box.  \n",
    "\n",
    "### Python's Built-in Functions\n",
    "We will not go over all the functions listed in Python so here is a link to where you can go to learn more of the <a href=\"https://docs.python.org/3/library/functions.html#built-in-functions\" title=\"Python Built-in Function\" target=\"_blank\"> Python Built-in Functions</a>  \n",
    "Here is a link to <a href=\"https://docs.python.org/3/glossary.html?highlight=dictionary#glossary\" title=\"Python Glossary\" target=\"_blank\">Python Glossary</a>\n",
    "\n"
   ]
  },
  {
   "cell_type": "markdown",
   "metadata": {},
   "source": [
    "# Python With Numbers\n",
    "Python can be very helpful as a calulator.  \n",
    "As you will see below. "
   ]
  },
  {
   "cell_type": "markdown",
   "metadata": {},
   "source": [
    "## Different Types of Numbers Python Uses\n",
    "   There are 2 different types of numbers forms that python uses.\n",
    "   \n",
    "   * They are floats <code> type(10.2) </code> returns <code> float </code>\n",
    "       * Floats are numbers with decimals as you can see with the code block."
   ]
  },
  {
   "cell_type": "code",
   "execution_count": 36,
   "metadata": {},
   "outputs": [
    {
     "data": {
      "text/plain": [
       "float"
      ]
     },
     "execution_count": 36,
     "metadata": {},
     "output_type": "execute_result"
    }
   ],
   "source": [
    "type(10.2)"
   ]
  },
  {
   "cell_type": "code",
   "execution_count": 37,
   "metadata": {},
   "outputs": [
    {
     "data": {
      "text/plain": [
       "float"
      ]
     },
     "execution_count": 37,
     "metadata": {},
     "output_type": "execute_result"
    }
   ],
   "source": [
    "type(100.0)"
   ]
  },
  {
   "cell_type": "code",
   "execution_count": 38,
   "metadata": {},
   "outputs": [
    {
     "data": {
      "text/plain": [
       "float"
      ]
     },
     "execution_count": 38,
     "metadata": {},
     "output_type": "execute_result"
    }
   ],
   "source": [
    "type(100.)"
   ]
  },
  {
   "cell_type": "markdown",
   "metadata": {},
   "source": [
    "**Then there are integers:**\n",
    "\n",
    "   * <code> type(100) </code> returns <code> int </code>\n",
    "       * Integers are whole numbers as you can see in the code block below."
   ]
  },
  {
   "cell_type": "code",
   "execution_count": 39,
   "metadata": {},
   "outputs": [
    {
     "data": {
      "text/plain": [
       "int"
      ]
     },
     "execution_count": 39,
     "metadata": {},
     "output_type": "execute_result"
    }
   ],
   "source": [
    "type(100)"
   ]
  },
  {
   "cell_type": "code",
   "execution_count": 40,
   "metadata": {},
   "outputs": [
    {
     "data": {
      "text/plain": [
       "int"
      ]
     },
     "execution_count": 40,
     "metadata": {},
     "output_type": "execute_result"
    }
   ],
   "source": [
    "type(20)"
   ]
  },
  {
   "cell_type": "markdown",
   "metadata": {},
   "source": [
    "## Python As A Calculator  \n",
    "Here is the Python Documentation on all the different types of Numeric Types <a href=\"https://docs.python.org/3/library/stdtypes.html?highlight=list%20pop#numeric-types-int-float-complex\" title=\"Numeric Types\" target=\"_blank\">Python Documentation</a>  \n",
    "\n",
    "As you see below. Python can be used as a calculator. You do not have to assign a variable to use as a calculator.  But if you wish to save the results of your calculation it would be wise to assign it to a variable to be able to recall the value later.  Later on we will go over how to create a variable and how to call on the variable to retreive the value stored in the variable."
   ]
  },
  {
   "cell_type": "code",
   "execution_count": 41,
   "metadata": {},
   "outputs": [
    {
     "data": {
      "text/plain": [
       "4"
      ]
     },
     "execution_count": 41,
     "metadata": {},
     "output_type": "execute_result"
    }
   ],
   "source": [
    "2+2"
   ]
  },
  {
   "cell_type": "code",
   "execution_count": 42,
   "metadata": {},
   "outputs": [
    {
     "data": {
      "text/plain": [
       "99"
      ]
     },
     "execution_count": 42,
     "metadata": {},
     "output_type": "execute_result"
    }
   ],
   "source": [
    "100-1"
   ]
  },
  {
   "cell_type": "code",
   "execution_count": 43,
   "metadata": {},
   "outputs": [
    {
     "data": {
      "text/plain": [
       "4"
      ]
     },
     "execution_count": 43,
     "metadata": {},
     "output_type": "execute_result"
    }
   ],
   "source": [
    "2*2"
   ]
  },
  {
   "cell_type": "code",
   "execution_count": 44,
   "metadata": {},
   "outputs": [
    {
     "data": {
      "text/plain": [
       "1.5"
      ]
     },
     "execution_count": 44,
     "metadata": {},
     "output_type": "execute_result"
    }
   ],
   "source": [
    "3/2"
   ]
  },
  {
   "cell_type": "code",
   "execution_count": 45,
   "metadata": {},
   "outputs": [
    {
     "data": {
      "text/plain": [
       "1.0"
      ]
     },
     "execution_count": 45,
     "metadata": {},
     "output_type": "execute_result"
    }
   ],
   "source": [
    "1/1"
   ]
  },
  {
   "cell_type": "code",
   "execution_count": 46,
   "metadata": {},
   "outputs": [
    {
     "data": {
      "text/plain": [
       "8"
      ]
     },
     "execution_count": 46,
     "metadata": {},
     "output_type": "execute_result"
    }
   ],
   "source": [
    "2**3"
   ]
  },
  {
   "cell_type": "code",
   "execution_count": 47,
   "metadata": {},
   "outputs": [
    {
     "data": {
      "text/plain": [
       "2.0"
      ]
     },
     "execution_count": 47,
     "metadata": {},
     "output_type": "execute_result"
    }
   ],
   "source": [
    "4*(1/2)"
   ]
  },
  {
   "cell_type": "code",
   "execution_count": 48,
   "metadata": {},
   "outputs": [
    {
     "data": {
      "text/plain": [
       "2.0"
      ]
     },
     "execution_count": 48,
     "metadata": {},
     "output_type": "execute_result"
    }
   ],
   "source": [
    "4**(1/2)"
   ]
  },
  {
   "cell_type": "code",
   "execution_count": 49,
   "metadata": {},
   "outputs": [
    {
     "data": {
      "text/plain": [
       "2.0"
      ]
     },
     "execution_count": 49,
     "metadata": {},
     "output_type": "execute_result"
    }
   ],
   "source": [
    "4*(1/2)"
   ]
  },
  {
   "cell_type": "code",
   "execution_count": 50,
   "metadata": {},
   "outputs": [
    {
     "data": {
      "text/plain": [
       "2003"
      ]
     },
     "execution_count": 50,
     "metadata": {},
     "output_type": "execute_result"
    }
   ],
   "source": [
    "1+2*1000+2"
   ]
  },
  {
   "cell_type": "markdown",
   "metadata": {},
   "source": [
    "### Order Of Operation  \n",
    "As you can see. Order of operation can be over written by using <code> () </code> perinthess around numbers you want preformed first \"or out of order\" **PEMDAS** _Please Excuse My Dear Anunt Sally_ = **Perinthess, Exponents, Multication, Addiation, and Subtraction**.  As we can see using Perinthess trumps over everything else in the order of operations."
   ]
  },
  {
   "cell_type": "code",
   "execution_count": 51,
   "metadata": {},
   "outputs": [
    {
     "data": {
      "text/plain": [
       "3003"
      ]
     },
     "execution_count": 51,
     "metadata": {},
     "output_type": "execute_result"
    }
   ],
   "source": [
    "(1+2) * (1000 + 1)"
   ]
  },
  {
   "cell_type": "markdown",
   "metadata": {},
   "source": [
    "## Python Variables  \n",
    "\n",
    "Python has a list of names that Python uses as functions that you can not use to name your variables or it will cause problems when you try to have Python interpret your code.  \n",
    "Here is the link to that list: <a href=\"https://docs.python.org/3/library/functions.html#built-in-functions\" target=\"_blank\" title=\"Built-in Functions\">Python Documentation Built-in Functions</a>  \n",
    "\n",
    "Variables can be anything except:  \n",
    "* A number as the first character\n",
    "* chosen words that Python uses in their syntax\n",
    "  * specal character other than an underscore <code> _ </code>\n",
    "Here are some examples of how most variables are written in Python:\n",
    "* the_answer = 25  This way of writing a variable is called snake casing\n",
    "* <code>__</code>player1 = left controller  This is an example to show that you can use an __ at the begining of a variable\n",
    "* hisName = 'John'  This way of naming a variable is used in different coding languages. It is called camel casing.\n",
    "\n",
    "Below are a examples of naming variables."
   ]
  },
  {
   "cell_type": "code",
   "execution_count": 52,
   "metadata": {},
   "outputs": [],
   "source": [
    "the_answer = 25"
   ]
  },
  {
   "cell_type": "code",
   "execution_count": 53,
   "metadata": {},
   "outputs": [],
   "source": [
    "hisName = 'John'"
   ]
  },
  {
   "cell_type": "code",
   "execution_count": 54,
   "metadata": {},
   "outputs": [],
   "source": [
    "__player1__ = 'main player'"
   ]
  },
  {
   "cell_type": "markdown",
   "metadata": {},
   "source": [
    "### Variables Are Names For Values\n",
    "\n",
    "Now that we know how to name variables. You might be thinking what are variables anyway?  Let's think of variables as boxes. And the variable name should give us an idea of what is inside of the box.  And boxes store things in them. So, variables are boxes that store values and the name we give the variable is like a lable on the outside of the box.  \n",
    "There are some examples of what I'm trying to say:  \n",
    "<code> a = 5 </code>  \n",
    "A is the variable name and 5 is the value stored in the variable.\n",
    "We can call on the variable name in python by typing the variable name and python will return the value stored in the variable.  \n",
    "Example:  \n",
    "<code> a </code> and python interpreter will return <code> 5 </code> It returns 5 because above we told python that <code> a = 5 </code>. So then when we called on the variable <code> a </code> python interpreter returned the value stored in a which is <code> 5 </code>"
   ]
  },
  {
   "cell_type": "code",
   "execution_count": 55,
   "metadata": {},
   "outputs": [],
   "source": [
    "a = 100"
   ]
  },
  {
   "cell_type": "code",
   "execution_count": 56,
   "metadata": {},
   "outputs": [
    {
     "data": {
      "text/plain": [
       "100"
      ]
     },
     "execution_count": 56,
     "metadata": {},
     "output_type": "execute_result"
    }
   ],
   "source": [
    "a"
   ]
  },
  {
   "cell_type": "code",
   "execution_count": 57,
   "metadata": {},
   "outputs": [],
   "source": [
    "a = 2"
   ]
  },
  {
   "cell_type": "code",
   "execution_count": 58,
   "metadata": {},
   "outputs": [
    {
     "data": {
      "text/plain": [
       "5"
      ]
     },
     "execution_count": 58,
     "metadata": {},
     "output_type": "execute_result"
    }
   ],
   "source": [
    "a + 3"
   ]
  },
  {
   "cell_type": "markdown",
   "metadata": {},
   "source": [
    "#### Using The Variable\n",
    "As you saw with the code block above. We called on the variable name and then added <code> 3 </code> to it. Python interpreter returned <code> 5 </code>. This is because <code> a </code> held the value of <code> 2 </code> and we told python interpreter to add <code> 3 </code> to it and this is why Python interpreter returned <code> 5 </code>."
   ]
  },
  {
   "cell_type": "code",
   "execution_count": 59,
   "metadata": {},
   "outputs": [],
   "source": [
    "b = 3"
   ]
  },
  {
   "cell_type": "code",
   "execution_count": 60,
   "metadata": {},
   "outputs": [
    {
     "data": {
      "text/plain": [
       "5"
      ]
     },
     "execution_count": 60,
     "metadata": {},
     "output_type": "execute_result"
    }
   ],
   "source": [
    "a + b"
   ]
  },
  {
   "cell_type": "code",
   "execution_count": 61,
   "metadata": {},
   "outputs": [],
   "source": [
    "a = a + a"
   ]
  },
  {
   "cell_type": "code",
   "execution_count": 62,
   "metadata": {},
   "outputs": [
    {
     "data": {
      "text/plain": [
       "4"
      ]
     },
     "execution_count": 62,
     "metadata": {},
     "output_type": "execute_result"
    }
   ],
   "source": [
    "a"
   ]
  },
  {
   "cell_type": "markdown",
   "metadata": {},
   "source": [
    "### A Form Of Encription\n",
    "Below we see a very simple form of using variables to do an encription. I will talk more about encriptions later in this course."
   ]
  },
  {
   "cell_type": "code",
   "execution_count": 63,
   "metadata": {},
   "outputs": [],
   "source": [
    "message = 111"
   ]
  },
  {
   "cell_type": "code",
   "execution_count": 64,
   "metadata": {},
   "outputs": [],
   "source": [
    "hash_code = 12345"
   ]
  },
  {
   "cell_type": "code",
   "execution_count": 65,
   "metadata": {},
   "outputs": [],
   "source": [
    "secret_message = message * hash_code"
   ]
  },
  {
   "cell_type": "code",
   "execution_count": 66,
   "metadata": {},
   "outputs": [
    {
     "data": {
      "text/plain": [
       "1370295"
      ]
     },
     "execution_count": 66,
     "metadata": {},
     "output_type": "execute_result"
    }
   ],
   "source": [
    "secret_message"
   ]
  },
  {
   "cell_type": "code",
   "execution_count": 67,
   "metadata": {},
   "outputs": [],
   "source": [
    "real_message = secret_message / hash_code"
   ]
  },
  {
   "cell_type": "code",
   "execution_count": 68,
   "metadata": {},
   "outputs": [
    {
     "data": {
      "text/plain": [
       "111.0"
      ]
     },
     "execution_count": 68,
     "metadata": {},
     "output_type": "execute_result"
    }
   ],
   "source": [
    "real_message"
   ]
  },
  {
   "cell_type": "markdown",
   "metadata": {},
   "source": [
    "## Strings\n",
    "Now lets look at Strings and how to write them in Python.  \n",
    "Here is a link to <a href=\"https://docs.python.org/3/library/stdtypes.html?highlight=list%20pop#string-methods\" title=\"String syntax in Python\" target=\"_blank\">Python String Documentation</a> Here you can learn about all the different methods that you can do with a string.    \n",
    "First let's talk about what is a string. Strings are an order of characters enclosed with either <code> ' ' </code> or <code> \" \" </code> quotes.  \n",
    "Example:  \n",
    "<code> 'John' </code>  \n",
    "<code> \"Is a man\" </code>  \n",
    "You can write them either way. But there are can be problems with quotes.  \n",
    "Here is an example to help explain:  \n",
    "* <code> a = 'I'm learning Python' </code> In the Python Interperter this line will through a syntax area. Stating that <code> I'm </code> is invalid syntax. There is the reason why. The <code> I'm </code> makes the Python Interperter that you have ended the string so the rest of the string is not being expressed as a string.  \n",
    "* Here is the solution to this problem. <code> \"I'm learning Python\" </code> Using <code> \" \" </code> when there is going to be an apostrophe in the string then start the string with double quotes <code> \" \" </code>."
   ]
  },
  {
   "cell_type": "code",
   "execution_count": 69,
   "metadata": {},
   "outputs": [
    {
     "ename": "SyntaxError",
     "evalue": "invalid syntax (<ipython-input-69-1c7b656979b8>, line 1)",
     "output_type": "error",
     "traceback": [
      "\u001b[1;36m  File \u001b[1;32m\"<ipython-input-69-1c7b656979b8>\"\u001b[1;36m, line \u001b[1;32m1\u001b[0m\n\u001b[1;33m    a = 'I'm learning Python'\u001b[0m\n\u001b[1;37m           ^\u001b[0m\n\u001b[1;31mSyntaxError\u001b[0m\u001b[1;31m:\u001b[0m invalid syntax\n"
     ]
    }
   ],
   "source": [
    "a = 'I'm learning Python'"
   ]
  },
  {
   "cell_type": "code",
   "execution_count": 70,
   "metadata": {},
   "outputs": [],
   "source": [
    "a = \"I'm learning Python\""
   ]
  },
  {
   "cell_type": "code",
   "execution_count": 71,
   "metadata": {},
   "outputs": [
    {
     "name": "stdout",
     "output_type": "stream",
     "text": [
      "I'm learning Python\n"
     ]
    }
   ],
   "source": [
    "print(a)"
   ]
  },
  {
   "cell_type": "markdown",
   "metadata": {},
   "source": [
    "## Print()\n",
    "In this last code block I used <code> print(a) </code> Python Interpreter returns <code> I'm learning Python </code>. Notice that the output did not have <code> ' ' </code> quotes around the output. This is because we had Python Interpreter print out the answer.  \n",
    "\n",
    "For more information on the Python <code title=\"Print()\"><a href=\"https://docs.python.org/3/library/stdtypes.html#list\" title=\"Print()\" target=\"_blank\" style=\"text-decoration:none;\"> print() </a></code> check out <a href=\"https://docs.python.org/3/library/stdtypes.html#list\" title=\"Python Documentation\" target=\"_blank\">Python Documentation</a>"
   ]
  },
  {
   "cell_type": "markdown",
   "metadata": {},
   "source": [
    "### String Indexing\n",
    "Python strings can be indexed.  \n",
    "Example:  "
   ]
  },
  {
   "cell_type": "code",
   "execution_count": 72,
   "metadata": {},
   "outputs": [],
   "source": [
    "my_string = 'Hello World'"
   ]
  },
  {
   "cell_type": "code",
   "execution_count": 73,
   "metadata": {},
   "outputs": [
    {
     "data": {
      "text/plain": [
       "'H'"
      ]
     },
     "execution_count": 73,
     "metadata": {},
     "output_type": "execute_result"
    }
   ],
   "source": [
    "my_string[0]"
   ]
  },
  {
   "cell_type": "markdown",
   "metadata": {},
   "source": [
    "As we can see from the code block above.  We created a variable named my_string and gave it the value 'Hello World' Then called the index of the value my_string[0] which returned 'H'. \n",
    "Indexing is called using [ ] square brackets. And the order to have the value returned using indexing is:  \n",
    "[start:stop:step]  \n",
    "Here is how the indexing of a value looks:  \n",
    "<code>'H e l l o   W o r l d'</code>  \n",
    " <code> 0 1 2 3 4 5 6 7 8 9 10 </code> or the index can be called from the end of the string to the begining like:  \n",
    " <code>-11 -10 -9 -8 -7 -6 -5 -4 -3 -2 -1 </code> <code> my_string[-1] </code> returns <code> 'd' </code>  \n",
    " Notice in this indexing that the empty space also has an index, which in this example is 5. And calling the index in reverse <code> my_string[-6] </code> will return <code>  </code> the empty space.    \n",
    "You call on the value index by using [ ] bracket.  \n",
    "Example: <code> my_string[0] </code>  This will return the value at the index of 0 which is <code> 'H' </code>  \n",
    "\n",
    "We can also call on multiable indexes  \n",
    "Example: <code> my_string[0:5] </code> Python Interpreter returns <code> 'Hello' </code>  "
   ]
  },
  {
   "cell_type": "code",
   "execution_count": 74,
   "metadata": {},
   "outputs": [
    {
     "data": {
      "text/plain": [
       "' '"
      ]
     },
     "execution_count": 74,
     "metadata": {},
     "output_type": "execute_result"
    }
   ],
   "source": [
    "my_string[-6]"
   ]
  },
  {
   "cell_type": "code",
   "execution_count": 75,
   "metadata": {},
   "outputs": [
    {
     "data": {
      "text/plain": [
       "'World'"
      ]
     },
     "execution_count": 75,
     "metadata": {},
     "output_type": "execute_result"
    }
   ],
   "source": [
    "my_string[-5:]"
   ]
  },
  {
   "cell_type": "code",
   "execution_count": 76,
   "metadata": {},
   "outputs": [
    {
     "data": {
      "text/plain": [
       "'Hello'"
      ]
     },
     "execution_count": 76,
     "metadata": {},
     "output_type": "execute_result"
    }
   ],
   "source": [
    "my_string[0:5]"
   ]
  },
  {
   "cell_type": "code",
   "execution_count": 77,
   "metadata": {},
   "outputs": [],
   "source": [
    "new_string = my_string[0:5]"
   ]
  },
  {
   "cell_type": "code",
   "execution_count": 78,
   "metadata": {},
   "outputs": [
    {
     "data": {
      "text/plain": [
       "'Hello'"
      ]
     },
     "execution_count": 78,
     "metadata": {},
     "output_type": "execute_result"
    }
   ],
   "source": [
    "new_string"
   ]
  },
  {
   "cell_type": "markdown",
   "metadata": {},
   "source": [
    "As I explained above. Indexing is used by inputting the [start:stop:step]  \n",
    "Here is an example of using step:"
   ]
  },
  {
   "cell_type": "code",
   "execution_count": 79,
   "metadata": {},
   "outputs": [
    {
     "data": {
      "text/plain": [
       "'HloWr'"
      ]
     },
     "execution_count": 79,
     "metadata": {},
     "output_type": "execute_result"
    }
   ],
   "source": [
    "my_string[0:-1:2]"
   ]
  },
  {
   "cell_type": "markdown",
   "metadata": {},
   "source": [
    "In this example I told Python to return every 2nd value in my_string starting with index 0 and ending at index -1 (or) 10"
   ]
  },
  {
   "cell_type": "markdown",
   "metadata": {},
   "source": [
    "Once a string is asigned to a variable it can not be changed from the origial. Meaning I can not add more to the value of a string variable. I can make a new string variable using the origial string.  \n",
    "Example:"
   ]
  },
  {
   "cell_type": "code",
   "execution_count": 80,
   "metadata": {},
   "outputs": [],
   "source": [
    "my_new_string = my_string[0:5]"
   ]
  },
  {
   "cell_type": "code",
   "execution_count": 81,
   "metadata": {},
   "outputs": [
    {
     "data": {
      "text/plain": [
       "'Hello'"
      ]
     },
     "execution_count": 81,
     "metadata": {},
     "output_type": "execute_result"
    }
   ],
   "source": [
    "my_new_string"
   ]
  },
  {
   "cell_type": "markdown",
   "metadata": {},
   "source": [
    "As we can see I took the value out of my_string using indexing and asigned it to a new variable called my_new_string"
   ]
  },
  {
   "cell_type": "markdown",
   "metadata": {},
   "source": [
    "## Python List\n",
    "List are ordered sequences that can hold a vriety of object types.  \n",
    "You creat them using [ , ] or <code><a href=\"https://docs.python.org/3/library/stdtypes.html?highlight=list#lists\" target=\"_blank\" title=\"list()\" style=\"text-decoration:none;\"> list() </a></code>  \n",
    "\n",
    "Here is a link to Python Documentation to learn more on <a href=\"https://docs.python.org/3/tutorial/datastructures.html?highlight=list#more-on-lists\" target=\"_blank\" title=\"List Data Structure\">List Data Structure</a> and <a href=\"https://docs.python.org/3/library/functions.html?highlight=list#func-list\" title=\"Function List\" target=\"_blank\">Python Function List</a>  \n",
    "Lets see an example:"
   ]
  },
  {
   "cell_type": "code",
   "execution_count": 82,
   "metadata": {},
   "outputs": [],
   "source": [
    "my_list = [1, 2, 3, 4,]"
   ]
  },
  {
   "cell_type": "code",
   "execution_count": 83,
   "metadata": {},
   "outputs": [
    {
     "data": {
      "text/plain": [
       "[1, 2, 3, 4]"
      ]
     },
     "execution_count": 83,
     "metadata": {},
     "output_type": "execute_result"
    }
   ],
   "source": [
    "my_list"
   ]
  },
  {
   "cell_type": "markdown",
   "metadata": {},
   "source": [
    "### Just Like Strings List Use Indexing\n",
    "List can use indexing like strings but list can also be added to the origial unlike strings. We will get into this in a bit.  \n",
    "You can index list in the same way you do with strings.  \n",
    "Let's look at examples:"
   ]
  },
  {
   "cell_type": "code",
   "execution_count": 84,
   "metadata": {},
   "outputs": [
    {
     "data": {
      "text/plain": [
       "[1, 3]"
      ]
     },
     "execution_count": 84,
     "metadata": {},
     "output_type": "execute_result"
    }
   ],
   "source": [
    "my_list[0:-1:2] # note we are asking for Python to return every other value in the list by using the optional step indexing."
   ]
  },
  {
   "cell_type": "code",
   "execution_count": 85,
   "metadata": {},
   "outputs": [
    {
     "data": {
      "text/plain": [
       "[1, 3]"
      ]
     },
     "execution_count": 85,
     "metadata": {},
     "output_type": "execute_result"
    }
   ],
   "source": [
    "my_list[::2] # note this is another way of writting the same code as the code block above."
   ]
  },
  {
   "cell_type": "markdown",
   "metadata": {},
   "source": [
    "### Quick Note:\n",
    "We have not talked about adding comments to your code.  \n",
    "To add comments to your code we use # hash symbol. Anything added after the # symbol while being on the same line as the # will be ignored by python.  As you can see from the two code blocks above I used python comments in my code to help explain what my code is going to do or what it should be doing."
   ]
  },
  {
   "cell_type": "markdown",
   "metadata": {},
   "source": [
    "### Let's Talk About Adding To List\n",
    "As I mentioned before. We can add to the values of the original variable.  \n",
    "We will use <code><a href=\"https://docs.python.org/3/tutorial/datastructures.html?highlight=append#more-on-lists\" title=\"List.append()\" target=\"_blank\" style=\"text-decoration:none;\"> .append() </a></code> to add to the list.\n",
    "Here are some examples:"
   ]
  },
  {
   "cell_type": "code",
   "execution_count": 86,
   "metadata": {},
   "outputs": [],
   "source": [
    "my_list.append(5,)"
   ]
  },
  {
   "cell_type": "code",
   "execution_count": 87,
   "metadata": {},
   "outputs": [
    {
     "data": {
      "text/plain": [
       "[1, 2, 3, 4, 5]"
      ]
     },
     "execution_count": 87,
     "metadata": {},
     "output_type": "execute_result"
    }
   ],
   "source": [
    "my_list"
   ]
  },
  {
   "cell_type": "markdown",
   "metadata": {},
   "source": [
    "As you can see, by using the method .append() we added to the list variable value.  List have many different types of methods that can be used on them.  We will go over some, but if you would like to learn more of the different methods that can be used on list. Check out <a href=\"https://docs.python.org\" title=\"Python Documentation\" target=\"_blank\">Python Documentation</a>. Here you will learn about all the different types of methods that can be used on all the different types of Python syntax.  But if you don't want to spend time there, Jupyter has different options to also help teach you about the different types of methods that can be used. One example is to start writting your variable after you enter the <code> . </code> press the tab key. This will display different types of methods that can be used in Jupyter. You can also learn more by after adding the method press shift + tab. Jupyter will display how to use that methode. This information is very close to what you would read from Python Documentation website."
   ]
  },
  {
   "cell_type": "code",
   "execution_count": 88,
   "metadata": {},
   "outputs": [],
   "source": [
    "my_list.reverse()"
   ]
  },
  {
   "cell_type": "code",
   "execution_count": 89,
   "metadata": {},
   "outputs": [
    {
     "data": {
      "text/plain": [
       "[5, 4, 3, 2, 1]"
      ]
     },
     "execution_count": 89,
     "metadata": {},
     "output_type": "execute_result"
    }
   ],
   "source": [
    "my_list"
   ]
  },
  {
   "cell_type": "markdown",
   "metadata": {},
   "source": [
    "Here is another method that can be used on list. It is called <code title=\"reverse method\"> .reverse() </code>. As we see from the code block above that it reversed the our list values.\n",
    "\n",
    "Now, lets sort the list back by the use of another method called <code title=\"sort method\"><a href=\"https://docs.python.org/3/library/stdtypes.html#list.sort\" style=\"text-decoration: none;\"> .sort() </a> </code>. "
   ]
  },
  {
   "cell_type": "code",
   "execution_count": 90,
   "metadata": {},
   "outputs": [],
   "source": [
    "my_list.sort()"
   ]
  },
  {
   "cell_type": "code",
   "execution_count": 91,
   "metadata": {},
   "outputs": [
    {
     "data": {
      "text/plain": [
       "[1, 2, 3, 4, 5]"
      ]
     },
     "execution_count": 91,
     "metadata": {},
     "output_type": "execute_result"
    }
   ],
   "source": [
    "my_list"
   ]
  },
  {
   "cell_type": "markdown",
   "metadata": {},
   "source": [
    "We see that it sorted our list value back with the value from lowest to hightest.\n",
    "\n",
    "Let's remove a value out of our list and assign it to a new variable.  \n",
    "We will do this with the method called <code title=\"pop method\"><a href=\"https://docs.python.org/3/tutorial/datastructures.html?highlight=pop#more-on-lists\" title=\"List.pop()\" target=\"_blank\" style=\"text-decoration: none;\"> .pop() </a></code>"
   ]
  },
  {
   "cell_type": "code",
   "execution_count": 92,
   "metadata": {},
   "outputs": [],
   "source": [
    "myList = my_list.pop(1)"
   ]
  },
  {
   "cell_type": "code",
   "execution_count": 93,
   "metadata": {},
   "outputs": [
    {
     "data": {
      "text/plain": [
       "2"
      ]
     },
     "execution_count": 93,
     "metadata": {},
     "output_type": "execute_result"
    }
   ],
   "source": [
    "myList"
   ]
  },
  {
   "cell_type": "markdown",
   "metadata": {},
   "source": [
    "Did you notice that I added an index into the method <code> .pop() </code>? We can tell Python which value we want to remove from our list by using the value's index.  \n",
    "Note: When we use <code> .pop() </code> we remove that value out of our list."
   ]
  },
  {
   "cell_type": "code",
   "execution_count": 94,
   "metadata": {},
   "outputs": [
    {
     "data": {
      "text/plain": [
       "[1, 3, 4, 5]"
      ]
     },
     "execution_count": 94,
     "metadata": {},
     "output_type": "execute_result"
    }
   ],
   "source": [
    "my_list"
   ]
  },
  {
   "cell_type": "markdown",
   "metadata": {},
   "source": [
    "The value <code> 2 </code> was removed when we called <code> myList = my_list.pop(1) </code> and the value <code> 2 </code> is now assigned to the variable myList.  \n",
    "\n",
    "Let's say you want to add a value into a list and you want it inserted in to a specal index.  \n",
    "Example:"
   ]
  },
  {
   "cell_type": "code",
   "execution_count": 95,
   "metadata": {},
   "outputs": [],
   "source": [
    "my_list.insert(1, 'New')"
   ]
  },
  {
   "cell_type": "code",
   "execution_count": 96,
   "metadata": {},
   "outputs": [
    {
     "data": {
      "text/plain": [
       "[1, 'New', 3, 4, 5]"
      ]
     },
     "execution_count": 96,
     "metadata": {},
     "output_type": "execute_result"
    }
   ],
   "source": [
    "my_list"
   ]
  },
  {
   "cell_type": "markdown",
   "metadata": {},
   "source": [
    "With the use of the method called <code><a href=\"https://docs.python.org/3/tutorial/datastructures.html?highlight=insert#more-on-lists\" title=\"List.insert()\" target=\"_blank\" style=\"text-decoration:none;\"> .insert() </a></code> we inserted <code> 'New' </code> into my_list values.  \n",
    "<code> .insert() </code> works by inserting in the ( ) index, then the value. <code> my_list.insert(1, 'New') </code> this will insert the value 'New' at the 1 index as we see in the code block above."
   ]
  },
  {
   "cell_type": "markdown",
   "metadata": {},
   "source": [
    "### List in List?\n",
    "Yes, Python list will let you make list inside a list.  \n",
    "This is called nesting a list.  \n",
    "Here is some examples:"
   ]
  },
  {
   "cell_type": "code",
   "execution_count": 97,
   "metadata": {},
   "outputs": [],
   "source": [
    "new_list= [1, 2, 3, ['a', 'b', 'c',], 5, [True,], 3.5,]"
   ]
  },
  {
   "cell_type": "code",
   "execution_count": 98,
   "metadata": {},
   "outputs": [
    {
     "data": {
      "text/plain": [
       "[1, 2, 3, ['a', 'b', 'c'], 5, [True], 3.5]"
      ]
     },
     "execution_count": 98,
     "metadata": {},
     "output_type": "execute_result"
    }
   ],
   "source": [
    "new_list"
   ]
  },
  {
   "cell_type": "code",
   "execution_count": 99,
   "metadata": {},
   "outputs": [
    {
     "data": {
      "text/plain": [
       "['a', 'b', 'c']"
      ]
     },
     "execution_count": 99,
     "metadata": {},
     "output_type": "execute_result"
    }
   ],
   "source": [
    "new_list[3] # I am having Python Interpreter access the 3 index value an that is a list in the list."
   ]
  },
  {
   "cell_type": "code",
   "execution_count": 100,
   "metadata": {},
   "outputs": [
    {
     "data": {
      "text/plain": [
       "[True]"
      ]
     },
     "execution_count": 100,
     "metadata": {},
     "output_type": "execute_result"
    }
   ],
   "source": [
    "new_list[5] # I am having Python Interpreter access the 5 index value which is another list in the list."
   ]
  },
  {
   "cell_type": "code",
   "execution_count": 101,
   "metadata": {},
   "outputs": [
    {
     "data": {
      "text/plain": [
       "'c'"
      ]
     },
     "execution_count": 101,
     "metadata": {},
     "output_type": "execute_result"
    }
   ],
   "source": [
    "new_list[3][2] # Once again I'm having Python Interpreter access the 3 index value and in that list having it return the 0 index of that list."
   ]
  },
  {
   "cell_type": "markdown",
   "metadata": {},
   "source": [
    "## Python Dictionaries\n",
    "Python Dictionaries are mutable arbitrary objects containing keys and value pairing.  \n",
    "Here is more infor from <a href=\"https://docs.python.org/3/glossary.html?highlight=dictionary#dictionary\" title=\"Python Documentation Dictionaries\" target=\"_blank\">Python Documentation Dictionaries</a> and <a href=\"https://docs.python.org/3/tutorial/datastructures.html?highlight=append#dictionaries\" title=\"Dictionary Data Structure\" target=\"_blank\">Dictionary Data Structure</a>\n",
    "\n",
    "Unlike Python List, Python Dictionaries do not store their value in order. Dict, Short for Dictionary, use key-value pair instead of having to know were the value's index is.\n",
    "\n",
    "You can make a Dict in Python by either calling:  \n",
    "<code> dict({}) </code> Which will make a empty dictionary in Python."
   ]
  },
  {
   "cell_type": "code",
   "execution_count": 102,
   "metadata": {},
   "outputs": [],
   "source": [
    "d = dict({})"
   ]
  },
  {
   "cell_type": "code",
   "execution_count": 103,
   "metadata": {},
   "outputs": [],
   "source": [
    "d['Red'] = 'Fire Truck'"
   ]
  },
  {
   "cell_type": "code",
   "execution_count": 104,
   "metadata": {},
   "outputs": [
    {
     "data": {
      "text/plain": [
       "{'Red': 'Fire Truck'}"
      ]
     },
     "execution_count": 104,
     "metadata": {},
     "output_type": "execute_result"
    }
   ],
   "source": [
    "d"
   ]
  },
  {
   "cell_type": "code",
   "execution_count": 105,
   "metadata": {},
   "outputs": [
    {
     "data": {
      "text/plain": [
       "1"
      ]
     },
     "execution_count": 105,
     "metadata": {},
     "output_type": "execute_result"
    }
   ],
   "source": [
    "len(d)"
   ]
  },
  {
   "cell_type": "code",
   "execution_count": 106,
   "metadata": {},
   "outputs": [
    {
     "name": "stdout",
     "output_type": "stream",
     "text": [
      "Fire Truck\n"
     ]
    }
   ],
   "source": [
    "print(d.get('Red'))"
   ]
  },
  {
   "cell_type": "code",
   "execution_count": 107,
   "metadata": {},
   "outputs": [],
   "source": [
    "my_dict = {'Person1': {'Gender': 'Male', 'Age': '42', 'first_name': 'Jason'}, \n",
    "           'Person2': {'Gender': 'Female', 'Age': \"You don't ask female\", 'first_name': 'Robyn',},}"
   ]
  },
  {
   "cell_type": "code",
   "execution_count": 108,
   "metadata": {},
   "outputs": [
    {
     "data": {
      "text/plain": [
       "{'Person1': {'Age': '42', 'Gender': 'Male', 'first_name': 'Jason'},\n",
       " 'Person2': {'Age': \"You don't ask female\",\n",
       "  'Gender': 'Female',\n",
       "  'first_name': 'Robyn'}}"
      ]
     },
     "execution_count": 108,
     "metadata": {},
     "output_type": "execute_result"
    }
   ],
   "source": [
    "my_dict"
   ]
  },
  {
   "cell_type": "code",
   "execution_count": 109,
   "metadata": {},
   "outputs": [
    {
     "name": "stdout",
     "output_type": "stream",
     "text": [
      "dict_keys(['Person1', 'Person2'])\n"
     ]
    }
   ],
   "source": [
    "print(my_dict.keys())"
   ]
  },
  {
   "cell_type": "code",
   "execution_count": 110,
   "metadata": {},
   "outputs": [
    {
     "data": {
      "text/plain": [
       "{'Age': \"You don't ask female\", 'Gender': 'Female', 'first_name': 'Robyn'}"
      ]
     },
     "execution_count": 110,
     "metadata": {},
     "output_type": "execute_result"
    }
   ],
   "source": [
    "my_dict.get('Person2')"
   ]
  },
  {
   "cell_type": "code",
   "execution_count": 111,
   "metadata": {},
   "outputs": [
    {
     "data": {
      "text/plain": [
       "'Robyn'"
      ]
     },
     "execution_count": 111,
     "metadata": {},
     "output_type": "execute_result"
    }
   ],
   "source": [
    "my_dict['Person2']['first_name'] # As you can see here. We are access a dictionary in a dictionary."
   ]
  },
  {
   "cell_type": "code",
   "execution_count": 112,
   "metadata": {},
   "outputs": [
    {
     "data": {
      "text/plain": [
       "'Jason'"
      ]
     },
     "execution_count": 112,
     "metadata": {},
     "output_type": "execute_result"
    }
   ],
   "source": [
    "my_dict['Person1']['first_name']"
   ]
  },
  {
   "cell_type": "code",
   "execution_count": 113,
   "metadata": {},
   "outputs": [],
   "source": [
    "my_dict['Person2'] = {'Age': 42, 'Gender': 'Female', 'first_name': 'Robyn'}"
   ]
  },
  {
   "cell_type": "code",
   "execution_count": 114,
   "metadata": {},
   "outputs": [],
   "source": [
    "person1_first_name = my_dict['Person1']['first_name']"
   ]
  },
  {
   "cell_type": "code",
   "execution_count": 115,
   "metadata": {},
   "outputs": [
    {
     "data": {
      "text/plain": [
       "'Jason'"
      ]
     },
     "execution_count": 115,
     "metadata": {},
     "output_type": "execute_result"
    }
   ],
   "source": [
    "person1_first_name"
   ]
  },
  {
   "cell_type": "code",
   "execution_count": 116,
   "metadata": {},
   "outputs": [],
   "source": [
    "person2_first_name = my_dict['Person2']['first_name']"
   ]
  },
  {
   "cell_type": "code",
   "execution_count": 117,
   "metadata": {},
   "outputs": [
    {
     "name": "stdout",
     "output_type": "stream",
     "text": [
      "Robyn\n"
     ]
    }
   ],
   "source": [
    "print(person2_first_name)"
   ]
  },
  {
   "cell_type": "code",
   "execution_count": 118,
   "metadata": {},
   "outputs": [],
   "source": [
    "person = str(my_dict['Person1']['first_name'])"
   ]
  },
  {
   "cell_type": "code",
   "execution_count": 119,
   "metadata": {},
   "outputs": [
    {
     "data": {
      "text/plain": [
       "'Jason'"
      ]
     },
     "execution_count": 119,
     "metadata": {},
     "output_type": "execute_result"
    }
   ],
   "source": [
    "person"
   ]
  },
  {
   "cell_type": "code",
   "execution_count": 120,
   "metadata": {},
   "outputs": [
    {
     "name": "stdout",
     "output_type": "stream",
     "text": [
      "Jason\n"
     ]
    }
   ],
   "source": [
    "print(person)"
   ]
  },
  {
   "cell_type": "code",
   "execution_count": 121,
   "metadata": {},
   "outputs": [],
   "source": [
    "person_age = my_dict['Person1']['Age']"
   ]
  },
  {
   "cell_type": "code",
   "execution_count": 122,
   "metadata": {},
   "outputs": [
    {
     "name": "stdout",
     "output_type": "stream",
     "text": [
      "The employee's name is Jason, and their age is 42\n"
     ]
    }
   ],
   "source": [
    "print(\"The employee's name is {name}, and their age is {age}\".format(age=person_age, name=person))"
   ]
  },
  {
   "cell_type": "code",
   "execution_count": 123,
   "metadata": {},
   "outputs": [
    {
     "name": "stdout",
     "output_type": "stream",
     "text": [
      "The employee's name is Jason, and their age is 42\n"
     ]
    }
   ],
   "source": [
    "print(\"The employee's name is {name}, and their age is {age}\".format(age=my_dict['Person1']['Age'], name=my_dict['Person1']['first_name']))\n",
    "# Yes, this is looks the same as the code block above. The differents is I had to write out a lot more in the format().\n",
    "# It was a lot faster and can be reused much easier to create a variable to store the information out of my dictionary\n",
    "# then just us that variable to get the value."
   ]
  },
  {
   "cell_type": "code",
   "execution_count": 124,
   "metadata": {},
   "outputs": [],
   "source": [
    "my_dict.update(Person3 = {'Age': 17, \n",
    "                          'Gender': 'Female', \n",
    "                          'first_name': 'Kristen'})"
   ]
  },
  {
   "cell_type": "code",
   "execution_count": 125,
   "metadata": {},
   "outputs": [
    {
     "data": {
      "text/plain": [
       "{'Person1': {'Age': '42', 'Gender': 'Male', 'first_name': 'Jason'},\n",
       " 'Person2': {'Age': 42, 'Gender': 'Female', 'first_name': 'Robyn'},\n",
       " 'Person3': {'Age': 17, 'Gender': 'Female', 'first_name': 'Kristen'}}"
      ]
     },
     "execution_count": 125,
     "metadata": {},
     "output_type": "execute_result"
    }
   ],
   "source": [
    "my_dict"
   ]
  },
  {
   "cell_type": "code",
   "execution_count": 126,
   "metadata": {},
   "outputs": [
    {
     "name": "stdout",
     "output_type": "stream",
     "text": [
      "3\n"
     ]
    }
   ],
   "source": [
    "print(len(my_dict))"
   ]
  },
  {
   "cell_type": "code",
   "execution_count": 127,
   "metadata": {},
   "outputs": [
    {
     "name": "stdout",
     "output_type": "stream",
     "text": [
      "['Person1', 'Person2', 'Person3']\n"
     ]
    }
   ],
   "source": [
    "print(list(my_dict.keys())) # This shows another way to see your keys"
   ]
  },
  {
   "cell_type": "code",
   "execution_count": 128,
   "metadata": {},
   "outputs": [
    {
     "name": "stdout",
     "output_type": "stream",
     "text": [
      "[{'Gender': 'Male', 'Age': '42', 'first_name': 'Jason'}, {'Age': 42, 'Gender': 'Female', 'first_name': 'Robyn'}, {'Age': 17, 'Gender': 'Female', 'first_name': 'Kristen'}]\n"
     ]
    }
   ],
   "source": [
    "print(list(my_dict.values())) # This is a way to see your values, but without the keys beside them it's very confussing."
   ]
  },
  {
   "cell_type": "code",
   "execution_count": 129,
   "metadata": {},
   "outputs": [
    {
     "name": "stdout",
     "output_type": "stream",
     "text": [
      "True\n"
     ]
    }
   ],
   "source": [
    "print('Person3' in my_dict) # We are asking Python if the key 'Person3' is in my_dict"
   ]
  },
  {
   "cell_type": "code",
   "execution_count": 130,
   "metadata": {},
   "outputs": [],
   "source": [
    "del my_dict['Person3']"
   ]
  },
  {
   "cell_type": "code",
   "execution_count": 131,
   "metadata": {},
   "outputs": [
    {
     "data": {
      "text/plain": [
       "{'Person1': {'Age': '42', 'Gender': 'Male', 'first_name': 'Jason'},\n",
       " 'Person2': {'Age': 42, 'Gender': 'Female', 'first_name': 'Robyn'}}"
      ]
     },
     "execution_count": 131,
     "metadata": {},
     "output_type": "execute_result"
    }
   ],
   "source": [
    "my_dict"
   ]
  },
  {
   "cell_type": "markdown",
   "metadata": {},
   "source": [
    "### That Was A Lot Covered\n",
    "I wanted to make sure you could see all the different ways you can use the Python Dictionaries.\n",
    "\n",
    "So, You are wondering when to use the Python Dictionary.  \n",
    "Good question.  \n",
    "* If you want to recall the values by using a key then Dictionaries is the way to go.  \n",
    "* If you want to call on values by index, or sort your values than use List"
   ]
  },
  {
   "cell_type": "markdown",
   "metadata": {},
   "source": [
    "## Python Tuples\n",
    "Let's look at another class in Python. It's called <code><a href=\"https://docs.python.org/3/library/stdtypes.html#tuple\" title=\"Python tuple()\" target=\"_blank\" style=\"text-decoration:none;\"> tuple() </a></code>.  \n",
    "Tuples are ordered sequences of objects.  \n",
    "You can make a empty tuple like this: <code> a = (,) </code> or <code> a = tuple() </code>    \n",
    "Here is a link to Python Documentation on Tuples. <a href=\"https://docs.python.org/3/library/stdtypes.html#tuple\" title=\"Python Documentation Tuple\" target=\"_blank\"> Python Tuples </a> and <a href=\"https://docs.python.org/3/tutorial/datastructures.html?highlight=append#tuples-and-sequences\" target=\"_blank\" title=\"Tuple Data Structure\">Tuple Data Structure</a> \n",
    "\n",
    "The differentes between a list and tuple are:  \n",
    "* List are mutable\n",
    "* List are made with [ ]\n",
    "* Tuple are immutable\n",
    "* Tuple are made with (,)\n",
    "\n",
    "Let's see some examples of tuple:"
   ]
  },
  {
   "cell_type": "code",
   "execution_count": 132,
   "metadata": {},
   "outputs": [],
   "source": [
    "my_tuple = (1, 2, 3, 4,)"
   ]
  },
  {
   "cell_type": "code",
   "execution_count": 133,
   "metadata": {},
   "outputs": [
    {
     "data": {
      "text/plain": [
       "tuple"
      ]
     },
     "execution_count": 133,
     "metadata": {},
     "output_type": "execute_result"
    }
   ],
   "source": [
    "type(my_tuple)"
   ]
  },
  {
   "cell_type": "code",
   "execution_count": 134,
   "metadata": {},
   "outputs": [
    {
     "ename": "TypeError",
     "evalue": "'tuple' object does not support item assignment",
     "output_type": "error",
     "traceback": [
      "\u001b[1;31m---------------------------------------------------------------------------\u001b[0m",
      "\u001b[1;31mTypeError\u001b[0m                                 Traceback (most recent call last)",
      "\u001b[1;32m<ipython-input-134-89eaa5567ae3>\u001b[0m in \u001b[0;36m<module>\u001b[1;34m()\u001b[0m\n\u001b[1;32m----> 1\u001b[1;33m \u001b[0mmy_tuple\u001b[0m\u001b[1;33m[\u001b[0m\u001b[1;36m0\u001b[0m\u001b[1;33m]\u001b[0m \u001b[1;33m=\u001b[0m \u001b[1;34m'New'\u001b[0m\u001b[1;33m\u001b[0m\u001b[0m\n\u001b[0m",
      "\u001b[1;31mTypeError\u001b[0m: 'tuple' object does not support item assignment"
     ]
    }
   ],
   "source": [
    "my_tuple[0] = 'New'"
   ]
  },
  {
   "cell_type": "markdown",
   "metadata": {},
   "source": [
    "As you can see from the code block above, that tuples are immutable. Once they are assigned they are locked-in.  \n",
    "This makes tuples great for assigning values that you don't want changed."
   ]
  },
  {
   "cell_type": "markdown",
   "metadata": {},
   "source": [
    "You can only do two methods to tuples.  \n",
    "<code> .count() </code>  \n",
    "<code> .index() </code>  \n",
    "Let's see some examples:"
   ]
  },
  {
   "cell_type": "code",
   "execution_count": 135,
   "metadata": {},
   "outputs": [
    {
     "data": {
      "text/plain": [
       "1"
      ]
     },
     "execution_count": 135,
     "metadata": {},
     "output_type": "execute_result"
    }
   ],
   "source": [
    "my_tuple.count(1)"
   ]
  },
  {
   "cell_type": "code",
   "execution_count": 136,
   "metadata": {},
   "outputs": [],
   "source": [
    "new_tuple = ('a', 'b', 'c', 'd', 'New', 'b', 'a', 'b',)"
   ]
  },
  {
   "cell_type": "code",
   "execution_count": 137,
   "metadata": {},
   "outputs": [
    {
     "data": {
      "text/plain": [
       "3"
      ]
     },
     "execution_count": 137,
     "metadata": {},
     "output_type": "execute_result"
    }
   ],
   "source": [
    "new_tuple.count('b')"
   ]
  },
  {
   "cell_type": "code",
   "execution_count": 138,
   "metadata": {},
   "outputs": [
    {
     "data": {
      "text/plain": [
       "2"
      ]
     },
     "execution_count": 138,
     "metadata": {},
     "output_type": "execute_result"
    }
   ],
   "source": [
    "my_tuple.index(3)"
   ]
  },
  {
   "cell_type": "code",
   "execution_count": 139,
   "metadata": {},
   "outputs": [
    {
     "data": {
      "text/plain": [
       "4"
      ]
     },
     "execution_count": 139,
     "metadata": {},
     "output_type": "execute_result"
    }
   ],
   "source": [
    "new_tuple.index('New')"
   ]
  },
  {
   "cell_type": "markdown",
   "metadata": {},
   "source": [
    "## Python Set\n",
    "Python set is an unordered collection with no duplicate values.  \n",
    "The <a href=\"https://docs.python.org/3/tutorial/datastructures.html?highlight=set#sets\" title=\"Python Set Data Structure\" target=\"_blank\">Python Set Data Structure</a> and The <a href=\"https://docs.python.org/3/library/stdtypes.html?highlight=set#set\" title=\"Python Built-in Types For Set()\" target=\"_blank\">Python Built-in Types For Set()</a> are two good links to learn more about the different types for methods that can be done on set().  \n",
    "\n",
    "We make an empty set by using <code><a href=\"https://docs.python.org/3/library/functions.html?highlight=set#func-set\" title=\"Python Set()\" target=\"_blank\" style=\"text-decoration:none;\"> set() </a></code>  \n",
    "Let's look at some examples:"
   ]
  },
  {
   "cell_type": "code",
   "execution_count": 140,
   "metadata": {},
   "outputs": [],
   "source": [
    "my_set = set() # This created an empty set assigned to the variable named my_set"
   ]
  },
  {
   "cell_type": "code",
   "execution_count": 141,
   "metadata": {},
   "outputs": [],
   "source": [
    "my_set.add(1,)"
   ]
  },
  {
   "cell_type": "code",
   "execution_count": 142,
   "metadata": {},
   "outputs": [
    {
     "data": {
      "text/plain": [
       "{1}"
      ]
     },
     "execution_count": 142,
     "metadata": {},
     "output_type": "execute_result"
    }
   ],
   "source": [
    "my_set # We see with this out put that the set is inside of {} but it is not a Dictionary becasue we do not have a key assigned to it."
   ]
  },
  {
   "cell_type": "code",
   "execution_count": 143,
   "metadata": {},
   "outputs": [],
   "source": [
    "my_set.add(2)"
   ]
  },
  {
   "cell_type": "code",
   "execution_count": 144,
   "metadata": {},
   "outputs": [
    {
     "data": {
      "text/plain": [
       "{1, 2}"
      ]
     },
     "execution_count": 144,
     "metadata": {},
     "output_type": "execute_result"
    }
   ],
   "source": [
    "my_set"
   ]
  },
  {
   "cell_type": "code",
   "execution_count": 145,
   "metadata": {},
   "outputs": [],
   "source": [
    "my_set.add(1) # We are going to try and add another 1 to our set"
   ]
  },
  {
   "cell_type": "code",
   "execution_count": 146,
   "metadata": {},
   "outputs": [
    {
     "data": {
      "text/plain": [
       "{1, 2}"
      ]
     },
     "execution_count": 146,
     "metadata": {},
     "output_type": "execute_result"
    }
   ],
   "source": [
    "my_set"
   ]
  },
  {
   "cell_type": "markdown",
   "metadata": {},
   "source": [
    "As we can see with this code block above that our added 1 did not get added. This is because Python Set() does not allow duplicate values.  This makes sets great for storing usernames, id code, or unique values."
   ]
  },
  {
   "cell_type": "code",
   "execution_count": 147,
   "metadata": {},
   "outputs": [],
   "source": [
    "mylist = [1,1,1,1,2,2,2,2,3,3,3,4,4,4,]"
   ]
  },
  {
   "cell_type": "code",
   "execution_count": 148,
   "metadata": {},
   "outputs": [],
   "source": [
    "no_duplicates_list = set(mylist) # Let's say you wanted to get rid of all your duplicate values in your list. You can put your list into a set."
   ]
  },
  {
   "cell_type": "code",
   "execution_count": 149,
   "metadata": {},
   "outputs": [
    {
     "data": {
      "text/plain": [
       "{1, 2, 3, 4}"
      ]
     },
     "execution_count": 149,
     "metadata": {},
     "output_type": "execute_result"
    }
   ],
   "source": [
    "no_duplicates_list"
   ]
  },
  {
   "cell_type": "code",
   "execution_count": 150,
   "metadata": {},
   "outputs": [
    {
     "data": {
      "text/plain": [
       "set"
      ]
     },
     "execution_count": 150,
     "metadata": {},
     "output_type": "execute_result"
    }
   ],
   "source": [
    "type(no_duplicates_list)"
   ]
  },
  {
   "cell_type": "markdown",
   "metadata": {},
   "source": [
    "There is another way to make a set other than <code> set() </code> and that is :"
   ]
  },
  {
   "cell_type": "code",
   "execution_count": 151,
   "metadata": {},
   "outputs": [],
   "source": [
    "new_set = {1,2,3,4,} # We used the {} assigned to new_set to produce the new set.  It was like creating a dictionary but we did not use key : value to make a set."
   ]
  },
  {
   "cell_type": "code",
   "execution_count": 152,
   "metadata": {},
   "outputs": [
    {
     "data": {
      "text/plain": [
       "set"
      ]
     },
     "execution_count": 152,
     "metadata": {},
     "output_type": "execute_result"
    }
   ],
   "source": [
    "type(new_set)"
   ]
  },
  {
   "cell_type": "markdown",
   "metadata": {},
   "source": [
    "## Python Booleans\n",
    "Python Booleans are data types that indicate a logical state of <code> True </code> or <code> False </code>  \n",
    "\n",
    "<a href=\"https://docs.python.org/3/library/stdtypes.html?highlight=boolean#boolean-operations-and-or-not\" title=\"Python Built-in Types Boolean\" target=\"_blank\">Python Built-in Types Boolean</a> is a link that describes more in detail on the use of booleans.  \n",
    "Let's look over some examples:"
   ]
  },
  {
   "cell_type": "code",
   "execution_count": 153,
   "metadata": {},
   "outputs": [
    {
     "data": {
      "text/plain": [
       "True"
      ]
     },
     "execution_count": 153,
     "metadata": {},
     "output_type": "execute_result"
    }
   ],
   "source": [
    "True # Booleans in Python are written in capital letter."
   ]
  },
  {
   "cell_type": "code",
   "execution_count": 154,
   "metadata": {},
   "outputs": [
    {
     "data": {
      "text/plain": [
       "bool"
      ]
     },
     "execution_count": 154,
     "metadata": {},
     "output_type": "execute_result"
    }
   ],
   "source": [
    "type(True) # We see that the type of True is a boolean"
   ]
  },
  {
   "cell_type": "code",
   "execution_count": 155,
   "metadata": {},
   "outputs": [
    {
     "data": {
      "text/plain": [
       "False"
      ]
     },
     "execution_count": 155,
     "metadata": {},
     "output_type": "execute_result"
    }
   ],
   "source": [
    "False"
   ]
  },
  {
   "cell_type": "code",
   "execution_count": 156,
   "metadata": {},
   "outputs": [
    {
     "data": {
      "text/plain": [
       "bool"
      ]
     },
     "execution_count": 156,
     "metadata": {},
     "output_type": "execute_result"
    }
   ],
   "source": [
    "type(False) # We see that False is also a boolean"
   ]
  },
  {
   "cell_type": "code",
   "execution_count": 157,
   "metadata": {},
   "outputs": [],
   "source": [
    "a = True\n",
    "b = False"
   ]
  },
  {
   "cell_type": "code",
   "execution_count": 158,
   "metadata": {},
   "outputs": [
    {
     "data": {
      "text/plain": [
       "bool"
      ]
     },
     "execution_count": 158,
     "metadata": {},
     "output_type": "execute_result"
    }
   ],
   "source": [
    "type(a)"
   ]
  },
  {
   "cell_type": "code",
   "execution_count": 159,
   "metadata": {},
   "outputs": [
    {
     "data": {
      "text/plain": [
       "bool"
      ]
     },
     "execution_count": 159,
     "metadata": {},
     "output_type": "execute_result"
    }
   ],
   "source": [
    "type(b)"
   ]
  },
  {
   "cell_type": "markdown",
   "metadata": {},
   "source": [
    "As we see from the code blocks above that variables can also store booleans.  The values start with a capital letter: True, or False."
   ]
  },
  {
   "cell_type": "code",
   "execution_count": 160,
   "metadata": {},
   "outputs": [
    {
     "data": {
      "text/plain": [
       "False"
      ]
     },
     "execution_count": 160,
     "metadata": {},
     "output_type": "execute_result"
    }
   ],
   "source": [
    "1 > 2"
   ]
  },
  {
   "cell_type": "code",
   "execution_count": 161,
   "metadata": {},
   "outputs": [
    {
     "data": {
      "text/plain": [
       "True"
      ]
     },
     "execution_count": 161,
     "metadata": {},
     "output_type": "execute_result"
    }
   ],
   "source": [
    "1 < 3"
   ]
  },
  {
   "cell_type": "markdown",
   "metadata": {},
   "source": [
    "Here we see that booleans are being returned in the code blocks above to compare the two values.  You will be using booleans a lot in your future of coding to compare different values or to run control flows.  We will get into that more in this course."
   ]
  },
  {
   "cell_type": "code",
   "execution_count": 162,
   "metadata": {},
   "outputs": [],
   "source": [
    "c = None"
   ]
  },
  {
   "cell_type": "code",
   "execution_count": 163,
   "metadata": {},
   "outputs": [],
   "source": [
    "c"
   ]
  },
  {
   "cell_type": "code",
   "execution_count": 164,
   "metadata": {},
   "outputs": [
    {
     "data": {
      "text/plain": [
       "NoneType"
      ]
     },
     "execution_count": 164,
     "metadata": {},
     "output_type": "execute_result"
    }
   ],
   "source": [
    "type(c)"
   ]
  },
  {
   "cell_type": "markdown",
   "metadata": {},
   "source": [
    "### None (Null Object) In Python\n",
    "We used <code> None </code> for the value in the variable <code> c </code>.  \n",
    "Here is a link to help explain more about how None works. <a href=\"https://docs.python.org/3/library/stdtypes.html?highlight=None#the-null-object\" title=\"Null Object\" target=\"_blank\"> Python Built-in Types Null</a>  \n",
    "As we saw above the value None is like Null and it is compared to as a False."
   ]
  },
  {
   "cell_type": "markdown",
   "metadata": {},
   "source": [
    "## Working With Files in Python\n",
    "You will need to know how to open, read, and write to files.  \n",
    "Python has a built-in function called <code><a href=\"https://docs.python.org/3/library/functions.html?highlight=open#open\" target=\"_blank\" title=\"Python Built-in Function Open()\" style=\"text-decoration:none;\"> open() </a></code>  \n",
    "The link is <a href=\"https://docs.python.org/3/library/functions.html?highlight=open#open\" title=\"Python Built-in Function Open()\" target=\"_blank\">Python Built-in Function Open()</a>  \n",
    "The different types of files Python can open that we will go over is:  \n",
    "* .txt  \n",
    "* .csv  \n",
    "* .PDF\n",
    "\n",
    "So, we will go over how to do some of this below:"
   ]
  },
  {
   "cell_type": "code",
   "execution_count": 165,
   "metadata": {},
   "outputs": [
    {
     "ename": "FileNotFoundError",
     "evalue": "[Errno 2] No such file or directory: 'makeup_some.txt'",
     "output_type": "error",
     "traceback": [
      "\u001b[1;31m---------------------------------------------------------------------------\u001b[0m",
      "\u001b[1;31mFileNotFoundError\u001b[0m                         Traceback (most recent call last)",
      "\u001b[1;32m<ipython-input-165-64d2490b7c50>\u001b[0m in \u001b[0;36m<module>\u001b[1;34m()\u001b[0m\n\u001b[1;32m----> 1\u001b[1;33m \u001b[0merror_file\u001b[0m \u001b[1;33m=\u001b[0m \u001b[0mopen\u001b[0m\u001b[1;33m(\u001b[0m\u001b[1;34m'makeup_some.txt'\u001b[0m\u001b[1;33m)\u001b[0m\u001b[1;33m\u001b[0m\u001b[0m\n\u001b[0m",
      "\u001b[1;31mFileNotFoundError\u001b[0m: [Errno 2] No such file or directory: 'makeup_some.txt'"
     ]
    }
   ],
   "source": [
    "error_file = open('makeup_some.txt')"
   ]
  },
  {
   "cell_type": "markdown",
   "metadata": {},
   "source": [
    "As an example we makeup a file name that does not exist, and we got back an error. <code> Errno 2 </code> This can mean two things.  \n",
    "* One: The file name could have been mess spelled.  \n",
    "* Two: The file does not exist  "
   ]
  },
  {
   "cell_type": "markdown",
   "metadata": {},
   "source": [
    "Use <code> pwd </code> to find what file you are in when you are in a Jupyter Notebook."
   ]
  },
  {
   "cell_type": "code",
   "execution_count": 166,
   "metadata": {},
   "outputs": [],
   "source": [
    "my_file = open(\"test_file.txt\")"
   ]
  },
  {
   "cell_type": "code",
   "execution_count": 167,
   "metadata": {},
   "outputs": [
    {
     "data": {
      "text/plain": [
       "'First Line of File\\nSecond Line of File\\nThird Line of File\\nLast Line of File'"
      ]
     },
     "execution_count": 167,
     "metadata": {},
     "output_type": "execute_result"
    }
   ],
   "source": [
    "my_file.read()"
   ]
  },
  {
   "cell_type": "code",
   "execution_count": 168,
   "metadata": {},
   "outputs": [
    {
     "data": {
      "text/plain": [
       "0"
      ]
     },
     "execution_count": 168,
     "metadata": {},
     "output_type": "execute_result"
    }
   ],
   "source": [
    "my_file.seek(0) # This will reset the read() file function so we can read the file again."
   ]
  },
  {
   "cell_type": "code",
   "execution_count": 169,
   "metadata": {},
   "outputs": [
    {
     "data": {
      "text/plain": [
       "['First Line of File\\n',\n",
       " 'Second Line of File\\n',\n",
       " 'Third Line of File\\n',\n",
       " 'Last Line of File']"
      ]
     },
     "execution_count": 169,
     "metadata": {},
     "output_type": "execute_result"
    }
   ],
   "source": [
    "my_file.readlines() # We ran .readlines() to return each line on its own line. Note that at the end of each line is a \\n"
   ]
  },
  {
   "cell_type": "code",
   "execution_count": 170,
   "metadata": {},
   "outputs": [
    {
     "data": {
      "text/plain": [
       "['']"
      ]
     },
     "execution_count": 170,
     "metadata": {},
     "output_type": "execute_result"
    }
   ],
   "source": [
    "my_file.read().split('\\n') # When we run this. It will would each line from file on its own line and remove the \\n at the end of each line."
   ]
  },
  {
   "cell_type": "markdown",
   "metadata": {},
   "source": [
    "## Opening Files On Your Computer\n",
    "I will give examples for Windows and MacOS and Linux users:  \n",
    "* Windows users:  \n",
    "    * You will have to use double (backslash) \\\\\\ to seperate between folders (You have to use double so python doesn't treat the second \\\\ as an escape character):  \n",
    "        * <code> myFile = open(\"C:\\\\\\Users\\\\\\YourUserName\\\\\\FolderStorageName\\\\\\fileName.txt') </code>  \n",
    "* MacOS and Linux users:  \n",
    "    * You use single (forward slash) / to seperate between folders:    \n",
    "        * <code> myFile = open(\"/Users/YourUserName/FolderStorageName/fileName.txt\") </code>  "
   ]
  },
  {
   "cell_type": "code",
   "execution_count": 171,
   "metadata": {},
   "outputs": [
    {
     "name": "stdout",
     "output_type": "stream",
     "text": [
      "First Line of File\n",
      "Second Line of File\n",
      "Third Line of File\n",
      "Last Line of File\n"
     ]
    }
   ],
   "source": [
    "myfile = open(\"test_file.txt\")\n",
    "lines = myfile.read()\n",
    "print(lines)\n",
    "myfile.close()"
   ]
  },
  {
   "cell_type": "code",
   "execution_count": 172,
   "metadata": {},
   "outputs": [
    {
     "name": "stdout",
     "output_type": "stream",
     "text": [
      "First Line of File\n",
      "Second Line of File\n",
      "Third Line of File\n",
      "Last Line of File\n"
     ]
    }
   ],
   "source": [
    "with open('test_file.txt') as myFile:\n",
    "    lines = myFile.read()\n",
    "    print(lines)"
   ]
  },
  {
   "cell_type": "code",
   "execution_count": 173,
   "metadata": {},
   "outputs": [],
   "source": [
    "with open('second_file.txt', mode='a', newline='\\n') as secondFile:\n",
    "    new_write = secondFile.write('Adding to the file')"
   ]
  },
  {
   "cell_type": "markdown",
   "metadata": {},
   "source": [
    "## Python Comparison Operators\n",
    "Python uses comparison Operators to compare values.  \n",
    "There are 6 different types of comparison operators that Python uses.  \n",
    "* <code> < </code>  Less than\n",
    "* <code> > </code>  Greater than\n",
    "* <code> <= </code>  Less than or equal to\n",
    "* <code> >= </code>  Greater than or equal to\n",
    "* <code> == </code>  Equals\n",
    "* <code> != </code>  Not Equal\n",
    "    \n",
    "We will look at all 6 and how they operate.  \n",
    "\n",
    "If you would like to learn more about the <a href=\"https://docs.python.org/3/reference/expressions.html?highlight=comparison#value-comparisons\" target=\"_blank\" title=\"Comparison Operators\">Python Comparison Operators</a> check out this link."
   ]
  },
  {
   "cell_type": "code",
   "execution_count": 174,
   "metadata": {},
   "outputs": [],
   "source": [
    "a = 5\n",
    "b = 3"
   ]
  },
  {
   "cell_type": "code",
   "execution_count": 175,
   "metadata": {},
   "outputs": [
    {
     "data": {
      "text/plain": [
       "False"
      ]
     },
     "execution_count": 175,
     "metadata": {},
     "output_type": "execute_result"
    }
   ],
   "source": [
    "a < b # We asked Python Interpretor if a is less than b. From the code block above we can see the values of the variables"
   ]
  },
  {
   "cell_type": "code",
   "execution_count": 176,
   "metadata": {},
   "outputs": [
    {
     "data": {
      "text/plain": [
       "True"
      ]
     },
     "execution_count": 176,
     "metadata": {},
     "output_type": "execute_result"
    }
   ],
   "source": [
    "1 > 0 # Here we are comparing to see if the integer 1 is greater than integer 0"
   ]
  },
  {
   "cell_type": "code",
   "execution_count": 177,
   "metadata": {},
   "outputs": [],
   "source": [
    "val1 = 'Male'\n",
    "val2 = 'Male'\n",
    "val3 = 'Female'"
   ]
  },
  {
   "cell_type": "code",
   "execution_count": 178,
   "metadata": {},
   "outputs": [
    {
     "data": {
      "text/plain": [
       "True"
      ]
     },
     "execution_count": 178,
     "metadata": {},
     "output_type": "execute_result"
    }
   ],
   "source": [
    "val1 == val2 # Here we are comparing two string values to see if they equal"
   ]
  },
  {
   "cell_type": "code",
   "execution_count": 179,
   "metadata": {},
   "outputs": [
    {
     "data": {
      "text/plain": [
       "True"
      ]
     },
     "execution_count": 179,
     "metadata": {},
     "output_type": "execute_result"
    }
   ],
   "source": [
    "val1 > val3 or val2 == val1 # Here we are comparing val1 to see if it is greater than val3 or if val2 equals val1. "
   ]
  },
  {
   "cell_type": "markdown",
   "metadata": {},
   "source": [
    "Let's break this down so you understand what the code block was comparing.  \n",
    "val1 has the string value of 'Male'  \n",
    "val2 has the string value of 'Male'  \n",
    "val3 has the string value of 'Female'  \n",
    "We asked Python Interpreter to compare if val1 is greater than val3  If this is True then the comparison code block would stop.  But if it is False the code block goes onto the or comparison which is val2 equals val1.  If this is True than True will be outputted, but if not than False will be outputted because both sides of the or in the code block would be False. But if either side is True than True will be outputted."
   ]
  },
  {
   "cell_type": "code",
   "execution_count": 180,
   "metadata": {},
   "outputs": [
    {
     "data": {
      "text/plain": [
       "True"
      ]
     },
     "execution_count": 180,
     "metadata": {},
     "output_type": "execute_result"
    }
   ],
   "source": [
    "val1 != val3 # Here we asked Python Interpreter if val1 is not equal to val3"
   ]
  },
  {
   "cell_type": "code",
   "execution_count": 181,
   "metadata": {},
   "outputs": [
    {
     "data": {
      "text/plain": [
       "True"
      ]
     },
     "execution_count": 181,
     "metadata": {},
     "output_type": "execute_result"
    }
   ],
   "source": [
    "3 >= 3 and 3 == b "
   ]
  },
  {
   "cell_type": "markdown",
   "metadata": {},
   "source": [
    "Here we asked Python Interpreter to compare 3 is greater than or equal to 3, which is True. But since there is an <code> and </code> after this section of the code block the other half of the code block must be compared to the first half.  If the last half is False then the whole code block is False.  \n",
    "Here is a break down how the <code> and </code> works.  \n",
    "* If left side of <code> and </code> is True and the right side of <code> and </code> is True then True will be outputted.  \n",
    "* But if either side of the <code> and </code> is False, then the whole code block is False and False will be outputted."
   ]
  },
  {
   "cell_type": "code",
   "execution_count": 182,
   "metadata": {},
   "outputs": [
    {
     "data": {
      "text/plain": [
       "True"
      ]
     },
     "execution_count": 182,
     "metadata": {},
     "output_type": "execute_result"
    }
   ],
   "source": [
    "5 <= 5"
   ]
  },
  {
   "cell_type": "markdown",
   "metadata": {},
   "source": [
    "## Python Control Flow\n",
    "We will learn about <code><a href=\"https://docs.python.org/3/tutorial/controlflow.html?highlight=if#if-statements\" target=\"_blank\" title=\"Python if Statement\" style=\"text-decoration:none;\"> if </a></code>, <code><a href=\"https://docs.python.org/3/tutorial/controlflow.html?highlight=elif#if-statements\" target=\"_blank\" title=\"Python elif\" style=\"text-decoration:none;\"> elif </a></code>, <code><a href=\"https://docs.python.org/3/tutorial/controlflow.html?highlight=else#if-statements\" target=\"_blank\" title=\"Python else\" style=\"text-decoration:none;\"> else </a></code>, <code><a href=\"https://docs.python.org/3/tutorial/controlflow.html?highlight=for#for-statements\" title=\"Python for Statment\" target=\"_blank\" style=\"text-decoration:none;\"> for </a></code>, and <code><a href=\"https://docs.python.org/3/reference/compound_stmts.html?highlight=while#the-while-statement\" target=\"_blank\" title=\"Python while Loop\" style=\"text-decoration:none;\"> while </a></code>. \n",
    "\n",
    "You can learn more about <code> if  elif  else </code> at <a href=\"https://docs.python.org/3/tutorial/controlflow.html?highlight=if#if-statements\" target=\"_blank\" title=\"Control Flow if, elif, and else\">Python Control Flow if, elif, and else</a>  \n",
    "You can learn more about <code> for </code> at <a href=\"https://docs.python.org/3/tutorial/controlflow.html?highlight=for#for-statements\" title=\"Python For Loop Statement\" target=\"_blank\">Python For Loop Statement</a>  \n",
    "You can learn more about <code> while </code> at <a href=\"https://docs.python.org/3/reference/compound_stmts.html?highlight=while#the-while-statement\" target=\"_blank\" title=\"Python while Loop\">Pyhton While Statement</a>  \n",
    "\n",
    "Control Flow Statements use Comparisons to contorl the flow of the code.  This is like the control of the comparison code block that has an <code> and </code> in the code to compare the left side to the right side.  The <code> and </code> is the control flow statement in that code block.  \n",
    "True and False are also used to control flow in a statement.  \n",
    "Example: If our if statement comparison is True then the code following the if statement will be executed. But if the if statement is False then the code following it will not execute.\n",
    "\n",
    "Let's start out looking at examples of the <code> if  elif  else </code> control flow:"
   ]
  },
  {
   "cell_type": "code",
   "execution_count": 183,
   "metadata": {},
   "outputs": [
    {
     "name": "stdout",
     "output_type": "stream",
     "text": [
      "Yes, 1 does equal 1\n"
     ]
    }
   ],
   "source": [
    "if 1 == 1:\n",
    "    print('Yes, 1 does equal 1')"
   ]
  },
  {
   "cell_type": "code",
   "execution_count": 184,
   "metadata": {},
   "outputs": [
    {
     "name": "stdout",
     "output_type": "stream",
     "text": [
      "2 is greater 1\n"
     ]
    }
   ],
   "source": [
    "e = 2 > 1\n",
    "\n",
    "if e:\n",
    "    print('2 is greater 1')"
   ]
  },
  {
   "cell_type": "code",
   "execution_count": 185,
   "metadata": {},
   "outputs": [
    {
     "name": "stdout",
     "output_type": "stream",
     "text": [
      "Now 5 is less than 10.\n"
     ]
    }
   ],
   "source": [
    "g = 5 < 10\n",
    "\n",
    "if 5 < 3:\n",
    "    print('Is 5 less than 3?')\n",
    "elif 5 < 4:\n",
    "    print('Is 5 less than 4?')\n",
    "elif g:\n",
    "    print('Now 5 is less than 10.')\n",
    "else:\n",
    "    print('I guess 5 is not less than any of them')"
   ]
  },
  {
   "cell_type": "code",
   "execution_count": 186,
   "metadata": {},
   "outputs": [
    {
     "name": "stdout",
     "output_type": "stream",
     "text": [
      "0\n",
      "1\n",
      "2\n",
      "3\n",
      "4\n"
     ]
    }
   ],
   "source": [
    "h = 0\n",
    "\n",
    "while h < 5:\n",
    "    print(h)\n",
    "    h = h + 1"
   ]
  },
  {
   "cell_type": "markdown",
   "metadata": {},
   "source": [
    "As we can see from the code block above. That <code> while </code> loops will go through the code block until all the conditions in the while statement are False.  \n",
    "Note: Use True in your while loop very carfully.  I will show a safer way to use while loops if you were to ever use True. But it is highly recommanded to use something other than True. Like the code block example I used above.  "
   ]
  },
  {
   "cell_type": "code",
   "execution_count": 187,
   "metadata": {},
   "outputs": [
    {
     "name": "stdout",
     "output_type": "stream",
     "text": [
      "Hello World\n",
      "How are you?\n"
     ]
    }
   ],
   "source": [
    "while True:\n",
    "    print('Hello World')\n",
    "    print('How are you?')\n",
    "    break"
   ]
  },
  {
   "cell_type": "markdown",
   "metadata": {},
   "source": [
    "If you ever wrote True in your while loop statement, you will need to use <code> break </code> in your code block.  \n",
    "<code> break </code> Breaks you out of the while loop.  \n",
    "If you forgot to code in <code> break </code> into your code block and you ran the while loop. It will run indefinitely. If you are in most IDE you can use Ctrl + C to cancel the code block. But in Jupyter Notebook you go to the Kernel tab and click on interrupt. After interrupting the code block, you will have to restart your Kernel. Once again go to the Kernel tab and click on Restart. But before you restart the Kernel. Rewrite the while code block to not use True or add in the <code> break </code> in the code block."
   ]
  },
  {
   "cell_type": "code",
   "execution_count": 188,
   "metadata": {},
   "outputs": [
    {
     "name": "stdout",
     "output_type": "stream",
     "text": [
      "1\n",
      "2\n",
      "3\n",
      "4\n",
      "5\n"
     ]
    }
   ],
   "source": [
    "j = [1,2,3,4,5,]\n",
    "\n",
    "for item in j:\n",
    "    print(item)"
   ]
  },
  {
   "cell_type": "markdown",
   "metadata": {},
   "source": [
    "In the code block above we created the variable j and stored a list of values.  We then used the for loop to iterate through the list. As we can see it created a new line for each time it iterated through the list."
   ]
  },
  {
   "cell_type": "code",
   "execution_count": 189,
   "metadata": {},
   "outputs": [],
   "source": [
    "list_of_tup = [(1,2),(3,4),(5,6),(7,8),(9,10)]"
   ]
  },
  {
   "cell_type": "code",
   "execution_count": 190,
   "metadata": {},
   "outputs": [
    {
     "name": "stdout",
     "output_type": "stream",
     "text": [
      "(1, 2)\n",
      "(3, 4)\n",
      "(5, 6)\n",
      "(7, 8)\n",
      "(9, 10)\n"
     ]
    }
   ],
   "source": [
    "for n1,n2 in list_of_tup:\n",
    "    print('({a}, {b})'.format(a=n1,b=n2))"
   ]
  },
  {
   "cell_type": "code",
   "execution_count": 191,
   "metadata": {},
   "outputs": [],
   "source": [
    "d = {'a': 1, 'b': 2, 'c': 3, 'd': 4}"
   ]
  },
  {
   "cell_type": "code",
   "execution_count": 192,
   "metadata": {},
   "outputs": [
    {
     "name": "stdout",
     "output_type": "stream",
     "text": [
      "The key and value pairs are a: 1\n",
      "The key and value pairs are b: 2\n",
      "The key and value pairs are c: 3\n",
      "The key and value pairs are d: 4\n"
     ]
    }
   ],
   "source": [
    "for k,v in d.items():\n",
    "    print('The key and value pairs are {k}: {v}'.format(k=k,v=v))"
   ]
  },
  {
   "cell_type": "code",
   "execution_count": 193,
   "metadata": {},
   "outputs": [
    {
     "name": "stdout",
     "output_type": "stream",
     "text": [
      "('a', 1)\n",
      "('b', 2)\n",
      "('c', 3)\n",
      "('d', 4)\n"
     ]
    }
   ],
   "source": [
    "for items in d.items():\n",
    "    print(items)"
   ]
  },
  {
   "cell_type": "code",
   "execution_count": 194,
   "metadata": {},
   "outputs": [
    {
     "name": "stdout",
     "output_type": "stream",
     "text": [
      "cod"
     ]
    }
   ],
   "source": [
    "for letter in 'code':\n",
    "    if letter == 'e':\n",
    "        continue # I added this when I wanted the code to \"jump over\" the print function and run through the code block again.\n",
    "    print(letter, end='') # Here is a new thing I added to the print function. I am asking the print function to print my loop onto one line."
   ]
  },
  {
   "cell_type": "markdown",
   "metadata": {},
   "source": [
    "## Useful Operators\n",
    "I want to go over some useful operators that you may use in your coding career.  \n",
    "* <code><a href=\"https://docs.python.org/3/library/functions.html?highlight=range#func-range\" title=\"Python Built-in Function range()\" target=\"_blank\" style=\"text-decoration:none;\"> range() </a></code>  \n",
    "* <code><a href=\"https://docs.python.org/3/library/functions.html?highlight=zip#zip\" target=\"_blank\" title=\"Python Built-in Function zip()\" style=\"text-decoration:none;\"> zip() </a></code>  \n",
    "* <code><a href=\"https://docs.python.org/3/library/functions.html?highlight=min#min\" target=\"_blank\" title=\"Python Built-in Function min()\" style=\"text-decoration:none;\"> min() </a></code>  \n",
    "* <code><a href=\"https://docs.python.org/3/library/functions.html?highlight=max#max\" target=\"_blank\" title=\"Python Built-in Function max()\" style=\"text-decoration:none;\"> max() </a></code>  \n",
    "* <code><a href=\"https://docs.python.org/3/library/stdtypes.html?highlight=and#boolean-operations-and-or-not\" target=\"_blank\" title=\"Python Built-in Type Operators\" style=\"text-decoration:none;\"> and  or  not </a></code>\n",
    "     "
   ]
  },
  {
   "cell_type": "markdown",
   "metadata": {},
   "source": [
    "#### range()\n",
    "Let's see some examples of the <code> range() </code> function:"
   ]
  },
  {
   "cell_type": "code",
   "execution_count": 195,
   "metadata": {},
   "outputs": [
    {
     "name": "stdout",
     "output_type": "stream",
     "text": [
      "0\n",
      "5\n",
      "10\n",
      "15\n",
      "20\n",
      "25\n",
      "30\n",
      "35\n",
      "40\n",
      "45\n",
      "50\n"
     ]
    }
   ],
   "source": [
    "for num in range(0, 51, 5):\n",
    "    print(num)"
   ]
  },
  {
   "cell_type": "code",
   "execution_count": 196,
   "metadata": {},
   "outputs": [
    {
     "name": "stdout",
     "output_type": "stream",
     "text": [
      "[0, 2, 4, 6, 8]\n"
     ]
    }
   ],
   "source": [
    "print(list(range(0, 10, 2)))"
   ]
  },
  {
   "cell_type": "code",
   "execution_count": 197,
   "metadata": {},
   "outputs": [],
   "source": [
    "a = list(range(0,10,2))"
   ]
  },
  {
   "cell_type": "code",
   "execution_count": 198,
   "metadata": {},
   "outputs": [
    {
     "name": "stdout",
     "output_type": "stream",
     "text": [
      "0 2 4 6 8 "
     ]
    }
   ],
   "source": [
    "for num in a:\n",
    "    print(num, end=' ') # Note end=' ' is printing all loop onto one line with a space in between them."
   ]
  },
  {
   "cell_type": "code",
   "execution_count": 199,
   "metadata": {},
   "outputs": [
    {
     "name": "stdout",
     "output_type": "stream",
     "text": [
      "Index 0 in a\n",
      "Index 1 in b\n",
      "Index 2 in c\n",
      "Index 3 in d\n",
      "Index 4 in e\n"
     ]
    }
   ],
   "source": [
    "index = 0\n",
    "\n",
    "for letter in 'abcde':\n",
    "    print('Index {i} in {letter}'.format(i=index, letter=letter))\n",
    "    index += 1"
   ]
  },
  {
   "cell_type": "code",
   "execution_count": 200,
   "metadata": {},
   "outputs": [
    {
     "name": "stdout",
     "output_type": "stream",
     "text": [
      "Index 0 in a\n",
      "Index 1 in b\n",
      "Index 2 in c\n",
      "Index 3 in Cow\n",
      "Index 4 in 3\n"
     ]
    }
   ],
   "source": [
    "j = ['a', 'b', 'c', 'Cow', 3]\n",
    "\n",
    "for i,l in enumerate(j):\n",
    "    print('Index {i} in {l}'.format(i=i,l=l))"
   ]
  },
  {
   "cell_type": "code",
   "execution_count": 201,
   "metadata": {},
   "outputs": [
    {
     "data": {
      "text/plain": [
       "[(0, 'a'), (1, 'b'), (2, 'c'), (3, 'd'), (4, 'e')]"
      ]
     },
     "execution_count": 201,
     "metadata": {},
     "output_type": "execute_result"
    }
   ],
   "source": [
    "list(enumerate('abcde'))"
   ]
  },
  {
   "cell_type": "markdown",
   "metadata": {},
   "source": [
    "#### Zip()\n",
    "now let's see some <code> zip() </code> function examples:"
   ]
  },
  {
   "cell_type": "code",
   "execution_count": 202,
   "metadata": {},
   "outputs": [],
   "source": [
    "mylist = [1,2,3,4,5,]\n",
    "mylist2 = ['a','b','c','d','e']"
   ]
  },
  {
   "cell_type": "code",
   "execution_count": 203,
   "metadata": {},
   "outputs": [
    {
     "name": "stdout",
     "output_type": "stream",
     "text": [
      "(1, 'a')\n",
      "(2, 'b')\n",
      "(3, 'c')\n",
      "(4, 'd')\n",
      "(5, 'e')\n"
     ]
    }
   ],
   "source": [
    "for item in zip(mylist,mylist2):\n",
    "    print(item)"
   ]
  },
  {
   "cell_type": "code",
   "execution_count": 204,
   "metadata": {},
   "outputs": [
    {
     "name": "stdout",
     "output_type": "stream",
     "text": [
      "{'a': 1, 'b': 2, 'c': 3, 'd': 4, 'e': 5}\n"
     ]
    }
   ],
   "source": [
    "p = dict(zip(mylist2, mylist))\n",
    "print(p)"
   ]
  },
  {
   "cell_type": "code",
   "execution_count": 205,
   "metadata": {},
   "outputs": [
    {
     "name": "stdout",
     "output_type": "stream",
     "text": [
      "a 1\n",
      "b 2\n",
      "c 3\n",
      "d 4\n",
      "e 5\n"
     ]
    }
   ],
   "source": [
    "for k,v in p.items():\n",
    "    print('{} {}'.format(k,v))"
   ]
  },
  {
   "cell_type": "markdown",
   "metadata": {},
   "source": [
    "#### Let's look into the use of <code> in </code>\n",
    "We can use the <code> in </code> to check to see if something is in a value.  \n",
    "Let's look at some examples below:"
   ]
  },
  {
   "cell_type": "code",
   "execution_count": 206,
   "metadata": {},
   "outputs": [
    {
     "data": {
      "text/plain": [
       "False"
      ]
     },
     "execution_count": 206,
     "metadata": {},
     "output_type": "execute_result"
    }
   ],
   "source": [
    "'x' in ['a','b','c','d'] # We are looking to see if 'x' is in the list "
   ]
  },
  {
   "cell_type": "code",
   "execution_count": 207,
   "metadata": {},
   "outputs": [
    {
     "data": {
      "text/plain": [
       "True"
      ]
     },
     "execution_count": 207,
     "metadata": {},
     "output_type": "execute_result"
    }
   ],
   "source": [
    "'x' in {'a','b','c','x'} # We are looking to see if 'x' is in the set"
   ]
  },
  {
   "cell_type": "code",
   "execution_count": 208,
   "metadata": {},
   "outputs": [
    {
     "data": {
      "text/plain": [
       "True"
      ]
     },
     "execution_count": 208,
     "metadata": {},
     "output_type": "execute_result"
    }
   ],
   "source": [
    "'x' in ('a','b','c','d','x') # We are looking to see if 'x' is in the tuple"
   ]
  },
  {
   "cell_type": "code",
   "execution_count": 209,
   "metadata": {},
   "outputs": [
    {
     "data": {
      "text/plain": [
       "True"
      ]
     },
     "execution_count": 209,
     "metadata": {},
     "output_type": "execute_result"
    }
   ],
   "source": [
    "'s' in {'k': 1, 'b': 2, 's': 4, 'x': 9} # We are looking to see if 's' is in the dictionary, But note only keys will be checked"
   ]
  },
  {
   "cell_type": "code",
   "execution_count": 210,
   "metadata": {},
   "outputs": [
    {
     "data": {
      "text/plain": [
       "False"
      ]
     },
     "execution_count": 210,
     "metadata": {},
     "output_type": "execute_result"
    }
   ],
   "source": [
    "'s' in {'k': 1, 'b': 2, 'm': 4, 'x': 's'} # As we can see the values were not looked at in this check."
   ]
  },
  {
   "cell_type": "markdown",
   "metadata": {},
   "source": [
    "#### min() Function\n",
    "Let's look over the <code> min() </code> function examples:"
   ]
  },
  {
   "cell_type": "code",
   "execution_count": 211,
   "metadata": {},
   "outputs": [],
   "source": [
    "myList = [506,25,61,84,101]"
   ]
  },
  {
   "cell_type": "code",
   "execution_count": 212,
   "metadata": {},
   "outputs": [],
   "source": [
    "myString = ['Jason', 'Robyn', 'Molly', 'Heidi', 'Lila']"
   ]
  },
  {
   "cell_type": "code",
   "execution_count": 213,
   "metadata": {},
   "outputs": [
    {
     "name": "stdout",
     "output_type": "stream",
     "text": [
      "25\n"
     ]
    }
   ],
   "source": [
    "print(min(myList)) # This is pretty self explaining. It will return the lowest value."
   ]
  },
  {
   "cell_type": "code",
   "execution_count": 214,
   "metadata": {},
   "outputs": [
    {
     "name": "stdout",
     "output_type": "stream",
     "text": [
      "Heidi\n"
     ]
    }
   ],
   "source": [
    "print(min(myString)) # We can see it also returns the lowest charactor value also."
   ]
  },
  {
   "cell_type": "markdown",
   "metadata": {},
   "source": [
    "#### max() Function\n",
    "Let's look over the <code> max() </code> function examples:"
   ]
  },
  {
   "cell_type": "code",
   "execution_count": 215,
   "metadata": {},
   "outputs": [
    {
     "name": "stdout",
     "output_type": "stream",
     "text": [
      "506\n"
     ]
    }
   ],
   "source": [
    "print(max(myList)) # We are asking Python Interpreter to return the max value"
   ]
  },
  {
   "cell_type": "code",
   "execution_count": 216,
   "metadata": {},
   "outputs": [
    {
     "name": "stdout",
     "output_type": "stream",
     "text": [
      "Robyn\n"
     ]
    }
   ],
   "source": [
    "print(max(myString)) # We are asking Python Interpreter to return the max charactor value"
   ]
  },
  {
   "cell_type": "code",
   "execution_count": 217,
   "metadata": {},
   "outputs": [],
   "source": [
    "from random import shuffle # Here we imported shuffle from random library.  I will go over import later in this course"
   ]
  },
  {
   "cell_type": "code",
   "execution_count": 218,
   "metadata": {},
   "outputs": [
    {
     "data": {
      "text/plain": [
       "[506, 25, 61, 84, 101]"
      ]
     },
     "execution_count": 218,
     "metadata": {},
     "output_type": "execute_result"
    }
   ],
   "source": [
    "myList"
   ]
  },
  {
   "cell_type": "code",
   "execution_count": 219,
   "metadata": {},
   "outputs": [],
   "source": [
    "shuffle(myList)"
   ]
  },
  {
   "cell_type": "code",
   "execution_count": 220,
   "metadata": {},
   "outputs": [
    {
     "data": {
      "text/plain": [
       "[25, 506, 84, 61, 101]"
      ]
     },
     "execution_count": 220,
     "metadata": {},
     "output_type": "execute_result"
    }
   ],
   "source": [
    "myList # Here we see that our values were shuffled."
   ]
  },
  {
   "cell_type": "code",
   "execution_count": 221,
   "metadata": {},
   "outputs": [],
   "source": [
    "from random import randint # imported randint from the random Library"
   ]
  },
  {
   "cell_type": "code",
   "execution_count": 222,
   "metadata": {},
   "outputs": [
    {
     "data": {
      "text/plain": [
       "28"
      ]
     },
     "execution_count": 222,
     "metadata": {},
     "output_type": "execute_result"
    }
   ],
   "source": [
    "randint(0, 100) # We had Python randomly pick a integer from 0 - 100 using randint"
   ]
  },
  {
   "cell_type": "markdown",
   "metadata": {},
   "source": [
    "#### and  or  not  Operators\n",
    "Let's go over <code> and </code> <code> or </code> <code> not </code> operator examples:"
   ]
  },
  {
   "cell_type": "markdown",
   "metadata": {},
   "source": [
    "Let's go over <code> and </code> operator again:  \n",
    "* If the code on the left side of the <code> and </code> is <code> True </code> and the code on the right side is <code> True </code> Then the code evaluation will be True.  \n",
    "* If either side of <code> and </code> is <code> False </code> then the whole code evaluation is False."
   ]
  },
  {
   "cell_type": "code",
   "execution_count": 223,
   "metadata": {},
   "outputs": [
    {
     "data": {
      "text/plain": [
       "True"
      ]
     },
     "execution_count": 223,
     "metadata": {},
     "output_type": "execute_result"
    }
   ],
   "source": [
    "1 == 1 and 2 == 2"
   ]
  },
  {
   "cell_type": "code",
   "execution_count": 224,
   "metadata": {},
   "outputs": [
    {
     "data": {
      "text/plain": [
       "False"
      ]
     },
     "execution_count": 224,
     "metadata": {},
     "output_type": "execute_result"
    }
   ],
   "source": [
    "1 == 2 and 2 != 2"
   ]
  },
  {
   "cell_type": "code",
   "execution_count": 225,
   "metadata": {},
   "outputs": [
    {
     "data": {
      "text/plain": [
       "False"
      ]
     },
     "execution_count": 225,
     "metadata": {},
     "output_type": "execute_result"
    }
   ],
   "source": [
    "1 == 1 and 2 == 1"
   ]
  },
  {
   "cell_type": "markdown",
   "metadata": {},
   "source": [
    "#### Let's look over the <code> or </code> operator examples:\n",
    "* If the code on either side of <code> or </code> is True, then the whole code evaluation will be True  \n",
    "examples:"
   ]
  },
  {
   "cell_type": "code",
   "execution_count": 226,
   "metadata": {},
   "outputs": [
    {
     "data": {
      "text/plain": [
       "True"
      ]
     },
     "execution_count": 226,
     "metadata": {},
     "output_type": "execute_result"
    }
   ],
   "source": [
    "1 == 1 or 2 == 0"
   ]
  },
  {
   "cell_type": "code",
   "execution_count": 227,
   "metadata": {},
   "outputs": [
    {
     "data": {
      "text/plain": [
       "False"
      ]
     },
     "execution_count": 227,
     "metadata": {},
     "output_type": "execute_result"
    }
   ],
   "source": [
    "\"J\" < \"G\" or 'Apple' < 'Abby' # Here we have both sides False. This will be the only way the (or) to return False"
   ]
  },
  {
   "cell_type": "markdown",
   "metadata": {},
   "source": [
    "#### Let's look over the <code> not </code> operator:\n",
    "* The <code> not </code> operator, is like you are calling the opposite of the evaluation answer.  \n",
    "examples:"
   ]
  },
  {
   "cell_type": "code",
   "execution_count": 228,
   "metadata": {},
   "outputs": [
    {
     "data": {
      "text/plain": [
       "True"
      ]
     },
     "execution_count": 228,
     "metadata": {},
     "output_type": "execute_result"
    }
   ],
   "source": [
    "1 == 1"
   ]
  },
  {
   "cell_type": "code",
   "execution_count": 229,
   "metadata": {},
   "outputs": [
    {
     "data": {
      "text/plain": [
       "False"
      ]
     },
     "execution_count": 229,
     "metadata": {},
     "output_type": "execute_result"
    }
   ],
   "source": [
    "not 1 == 1 # Here we can see that it had given us the opposite of the evaluation from above."
   ]
  },
  {
   "cell_type": "code",
   "execution_count": 230,
   "metadata": {},
   "outputs": [
    {
     "name": "stdout",
     "output_type": "stream",
     "text": [
      "Success!\n"
     ]
    }
   ],
   "source": [
    "answer = 'Yes'\n",
    "\n",
    "if 1 == 1 and not answer == 'No':  # Here is another example of how not may be used in Python coding.\n",
    "    print(\"Success!\")              # But there is a much easier way to write with code block that would not be so hard to read. "
   ]
  },
  {
   "cell_type": "code",
   "execution_count": 231,
   "metadata": {},
   "outputs": [
    {
     "name": "stdout",
     "output_type": "stream",
     "text": [
      "This should be a little easier to read the code.\n"
     ]
    }
   ],
   "source": [
    "answer = 'No'\n",
    "\n",
    "if 1 == 1 and answer != 'Yes':\n",
    "    print(\"This should be a little easier to read the code.\")"
   ]
  },
  {
   "cell_type": "markdown",
   "metadata": {},
   "source": [
    "## Python List Comprehensions\n",
    "Wow, Pat yourself on the back. You are doing great!  You are learning how to master Python.  \n",
    "\n",
    "But, we are not done yet.  So, let's get back to learning more Python.  \n",
    "\n",
    "This next section we will be learning more advanced Python.  \n",
    "List Comprehension is a very useful and quick way of writting a one line <code> for </code> loop in Python.  \n",
    "\n",
    "They look different and beginners tend to think they are confusing but I will walk you through them and when we are done you will understand them to the point where you will not have a problem making your own."
   ]
  },
  {
   "cell_type": "code",
   "execution_count": 232,
   "metadata": {},
   "outputs": [],
   "source": [
    "# We will start out writting a basic for loop. Then we will take apart this for loop and put it into a one line for loop.\n",
    "mylist = []\n",
    "\n",
    "s = 'something'\n",
    "\n",
    "for letter in s:\n",
    "    mylist.append(letter)"
   ]
  },
  {
   "cell_type": "code",
   "execution_count": 233,
   "metadata": {},
   "outputs": [
    {
     "data": {
      "text/plain": [
       "['s', 'o', 'm', 'e', 't', 'h', 'i', 'n', 'g']"
      ]
     },
     "execution_count": 233,
     "metadata": {},
     "output_type": "execute_result"
    }
   ],
   "source": [
    "mylist # Here we can see that we have appended each charactor of the string 'something'"
   ]
  },
  {
   "cell_type": "markdown",
   "metadata": {},
   "source": [
    "<code># What we are going to do is remove the variable mylist</code>  \n",
    "<code># We will be calling mylist in the one line for loop instead.</code>\n",
    "\n",
    "<code>s = 'something'</code>\n",
    "\n",
    "<code>letter for letter in s   # I took the letter our of the append argument and stuck it at the beging of the for loop.</code>  \n",
    "<code># We got rid of the append statement</code>\n",
    "\n",
    "________________________________________________\n",
    "\n",
    "<code># I will be adding square brackets around the for loop</code>\n",
    "\n",
    "<code>s = 'something'</code>\n",
    "\n",
    "<code>[letter for letter in s]  # I also removed the colon.</code> "
   ]
  },
  {
   "cell_type": "code",
   "execution_count": 234,
   "metadata": {},
   "outputs": [],
   "source": [
    "mylist = [letter for letter in s] # I added the variable name back to this new for loop list"
   ]
  },
  {
   "cell_type": "code",
   "execution_count": 235,
   "metadata": {},
   "outputs": [
    {
     "data": {
      "text/plain": [
       "['s', 'o', 'm', 'e', 't', 'h', 'i', 'n', 'g']"
      ]
     },
     "execution_count": 235,
     "metadata": {},
     "output_type": "execute_result"
    }
   ],
   "source": [
    "mylist"
   ]
  },
  {
   "cell_type": "markdown",
   "metadata": {},
   "source": [
    "Here we have taken a regular <code> for </code> loop that took up multi-lines and put it into one line.  \n",
    "Let's see another one:"
   ]
  },
  {
   "cell_type": "code",
   "execution_count": 241,
   "metadata": {},
   "outputs": [],
   "source": [
    "square = []\n",
    "for num in range(0,11):\n",
    "    square.append(num**2)"
   ]
  },
  {
   "cell_type": "code",
   "execution_count": 238,
   "metadata": {},
   "outputs": [
    {
     "data": {
      "text/plain": [
       "[0, 1, 4, 9, 16, 25, 36, 49, 64, 81, 100]"
      ]
     },
     "execution_count": 238,
     "metadata": {},
     "output_type": "execute_result"
    }
   ],
   "source": [
    "squares"
   ]
  },
  {
   "cell_type": "code",
   "execution_count": 237,
   "metadata": {},
   "outputs": [],
   "source": [
    "squares = [num**2 for num in range(0,11)] # Here I wrote a one line for loop taking num to the power of 2 from the range of 0 - 10"
   ]
  },
  {
   "cell_type": "code",
   "execution_count": 243,
   "metadata": {},
   "outputs": [
    {
     "data": {
      "text/plain": [
       "[0, 1, 4, 9, 16, 25, 36, 49, 64, 81, 100]"
      ]
     },
     "execution_count": 243,
     "metadata": {},
     "output_type": "execute_result"
    }
   ],
   "source": [
    "square"
   ]
  },
  {
   "cell_type": "markdown",
   "metadata": {},
   "source": [
    "<code># Let's break this down again.</code>    \n",
    "<code># I removed the variable squares at the top of the code.</code>  \n",
    "<code># Then put the variable name before the for loop with the quals sign</code>  \n",
    "\n",
    "<code>squares = for num in range(0,11):</code>  \n",
    "\n",
    "<code># I then removed the squares.append(num**2)</code>  \n",
    "<code># I then took the append argument and put it before the for loop statement.</code>  \n",
    "\n",
    "<code>squares = num**2 for num in range(0,11):</code>  \n",
    "\n",
    "<code># I took off the colon and added square brackets at the begining and end of the</code> <code> for </code> <code>loop</code>  \n",
    "\n",
    "<code>squares = [num**2 for num in range(0,11)]</code>  \n",
    "\n",
    "This is how a one line for loop is made.  Congrades you did it.   "
   ]
  },
  {
   "cell_type": "code",
   "execution_count": 244,
   "metadata": {},
   "outputs": [],
   "source": [
    "# Here is an example of adding in an if control flow\n",
    "\n",
    "evens = [x for x in range(0,11) if x%2 == 0]"
   ]
  },
  {
   "cell_type": "code",
   "execution_count": 245,
   "metadata": {},
   "outputs": [
    {
     "data": {
      "text/plain": [
       "[0, 2, 4, 6, 8, 10]"
      ]
     },
     "execution_count": 245,
     "metadata": {},
     "output_type": "execute_result"
    }
   ],
   "source": [
    "evens"
   ]
  },
  {
   "cell_type": "markdown",
   "metadata": {},
   "source": [
    "This is made the same way the <code> for </code> loop is made. But, at the end of the <code> for </code> loop we add in the if control flow then put on the square bracket."
   ]
  },
  {
   "cell_type": "code",
   "execution_count": 246,
   "metadata": {},
   "outputs": [],
   "source": [
    "# Ok. Here is another one that is a little harder.\n",
    "\n",
    "mylist = [x if x%2 == 0 else 'not even' for x in range(0,11)]"
   ]
  },
  {
   "cell_type": "code",
   "execution_count": 247,
   "metadata": {},
   "outputs": [
    {
     "data": {
      "text/plain": [
       "[0, 'not even', 2, 'not even', 4, 'not even', 6, 'not even', 8, 'not even', 10]"
      ]
     },
     "execution_count": 247,
     "metadata": {},
     "output_type": "execute_result"
    }
   ],
   "source": [
    "mylist"
   ]
  },
  {
   "cell_type": "markdown",
   "metadata": {},
   "source": [
    "## Now Let's Get Into Python Functions!\n",
    "We have now made it to learning about Python Functions.  Good Job!  Now we will be learning how to reduce repeating code by making functions which preform the task of doing the repeating.  \n",
    "Here is a link to lear more about <a href=\"https://docs.python.org/3/glossary.html?highlight=function#term-function\" title=\"Python Glossary Function\" target=\"_block\">Python Function</a>.  \n",
    "Let's break down how to write a function:  \n",
    "<code>def name_of_function(argument(s) if any):\n",
    "    <code>'''</code>\n",
    "    <code>Docstring explains function.</code>\n",
    "    <code>'''</code>\n",
    "    <code>print(\"What you want to pass through, goes here\") or you can return the result of the code also</code></code>\n",
    "\n",
    "Now that we see how the layout of a fuction is, let's make our own."
   ]
  },
  {
   "cell_type": "code",
   "execution_count": 2,
   "metadata": {},
   "outputs": [],
   "source": [
    "def say_hi():\n",
    "    '''\n",
    "    I want to say hi to the world with this function.\n",
    "    '''\n",
    "    print(\"Hello Everyone!\")"
   ]
  },
  {
   "cell_type": "markdown",
   "metadata": {},
   "source": [
    "As you can see from above. The lines under the def say_hi(): are indented.  Python is a language that uses whitespaces instead of {} for their code blocks = functions.  Most Python Developer Community members use 4 spaces for their whitespaces instead of 2 like more other Programming languages use.  \n",
    "\n",
    "The use of ''' Docstrings ''' is very comman practice. In the Docstring you need to explain what the function is to do. The outcome of the code block.  \n",
    "\n",
    "Ok. We wrote our first function above but nothing was outputed.  Well, not yet.  We need to call on the function to make it run."
   ]
  },
  {
   "cell_type": "code",
   "execution_count": 3,
   "metadata": {},
   "outputs": [
    {
     "name": "stdout",
     "output_type": "stream",
     "text": [
      "Hello Everyone!\n"
     ]
    }
   ],
   "source": [
    "say_hi()"
   ]
  },
  {
   "cell_type": "markdown",
   "metadata": {},
   "source": [
    "Good Job!  That is what coding about. Making functions to run code that can be called on and can be repeated without having to rewrite the same code over and over and over and over. (Should have used a function to write that. Ha)  \n",
    "Ok. Let's play some more with this same fuction.  Let's make this function call us by our name."
   ]
  },
  {
   "cell_type": "code",
   "execution_count": 4,
   "metadata": {},
   "outputs": [
    {
     "name": "stdout",
     "output_type": "stream",
     "text": [
      "What is your name?  Mike\n",
      "Hello Mike\n"
     ]
    }
   ],
   "source": [
    "your_name = input(\"What is your name?  \") # The reason why I left this out of the function is so we can have access to it out of the function.\n",
    "\n",
    "def func_say_hello(name):\n",
    "    '''\n",
    "    We are using the outside variable called your_name as our argument. We will take this value from your_name and have our\n",
    "    function use it to say your name.\n",
    "    '''\n",
    "    print(\"Hello {}\".format(name))\n",
    "    \n",
    "func_say_hello(your_name)"
   ]
  },
  {
   "cell_type": "markdown",
   "metadata": {},
   "source": [
    "### Now, This coding is getting really fun.  \n",
    "We just made Python Interpreter ask for your name then had it print it out.  \n",
    "\n",
    "Let's do some more before we go on."
   ]
  },
  {
   "cell_type": "code",
   "execution_count": 24,
   "metadata": {},
   "outputs": [
    {
     "name": "stdout",
     "output_type": "stream",
     "text": [
      "How old are you?  42\n",
      "Hey Mike, I see you are 42, which makes you old enought to vote and drink alchole.\n"
     ]
    }
   ],
   "source": [
    "your_age = int(input(\"How old are you?  \")) # I am asking this out of the function so we can have access to it outside of the function.\n",
    "\n",
    "def name_age(name='John', age=25):\n",
    "    '''\n",
    "    We are going to have Python Interpreter ask you for your age and display it along with your name.\n",
    "    '''\n",
    "    if your_age <= 17:\n",
    "        print(\"Hey {}, I see you are {}, which makes you not old enought to vote.\".format(name, age))\n",
    "    elif your_age <= 20:\n",
    "        print(\"Hey {}, I see you are {}, which makes you old enought to vote but not old enought to drink alchole. Huh?\".format(name, age))\n",
    "    else:\n",
    "        print(\"Hey {}, I see you are {}, which makes you old enought to vote and drink alchole.\". format(name, age))\n",
    "        \n",
    "name_age(your_name, your_age)"
   ]
  },
  {
   "cell_type": "code",
   "execution_count": 15,
   "metadata": {},
   "outputs": [
    {
     "name": "stdout",
     "output_type": "stream",
     "text": [
      "Enter a number:  62\n",
      "Enter another number:  3\n",
      "65\n"
     ]
    }
   ],
   "source": [
    "num1 = int(input(\"Enter a number:  \"))\n",
    "num2 = int(input(\"Enter another number:  \"))\n",
    "\n",
    "def add_numbers(number, number2):\n",
    "    '''\n",
    "    This function adds the numbers number + number2\n",
    "    '''\n",
    "    return number + number2\n",
    "\n",
    "print(add_numbers(num1, num2))"
   ]
  },
  {
   "cell_type": "code",
   "execution_count": 25,
   "metadata": {},
   "outputs": [],
   "source": [
    "results = add_numbers(12, 21)"
   ]
  },
  {
   "cell_type": "code",
   "execution_count": 26,
   "metadata": {},
   "outputs": [
    {
     "name": "stdout",
     "output_type": "stream",
     "text": [
      "33\n"
     ]
    }
   ],
   "source": [
    "print(results)"
   ]
  },
  {
   "cell_type": "code",
   "execution_count": 33,
   "metadata": {},
   "outputs": [],
   "source": [
    "def code_maker(mystring):\n",
    "    '''\n",
    "    INPUT: is a string\n",
    "    OUTPUT: same string, but all vowels are converted to an x\n",
    "    '''\n",
    "    output = list(mystring)\n",
    "    \n",
    "    for i,letter in enumerate(mystring):\n",
    "        for vowel in ['a', 'e', 'i', 'o', 'u']:\n",
    "            if letter.lower() == vowel:\n",
    "                output[i] = 'x'\n",
    "            else:\n",
    "                pass\n",
    "                \n",
    "    return ''.join(output)"
   ]
  },
  {
   "cell_type": "code",
   "execution_count": 34,
   "metadata": {},
   "outputs": [],
   "source": [
    "code = \"We are getting better and better the more we practice Python.\"\n",
    "my_code_message = code_maker(code)"
   ]
  },
  {
   "cell_type": "code",
   "execution_count": 35,
   "metadata": {},
   "outputs": [
    {
     "name": "stdout",
     "output_type": "stream",
     "text": [
      "Wx xrx gxttxng bxttxr xnd bxttxr thx mxrx wx prxctxcx Pythxn.\n"
     ]
    }
   ],
   "source": [
    "print(my_code_message)"
   ]
  },
  {
   "cell_type": "markdown",
   "metadata": {},
   "source": [
    "### Nested  Statements and Scope\n"
   ]
  },
  {
   "cell_type": "code",
   "execution_count": 36,
   "metadata": {},
   "outputs": [],
   "source": [
    "x = 'oustside'\n",
    "\n",
    "def report():\n",
    "    x = 'inside'\n",
    "    return x"
   ]
  },
  {
   "cell_type": "code",
   "execution_count": 37,
   "metadata": {},
   "outputs": [
    {
     "data": {
      "text/plain": [
       "'inside'"
      ]
     },
     "execution_count": 37,
     "metadata": {},
     "output_type": "execute_result"
    }
   ],
   "source": [
    "report() # this will return the x value inside the def because we are calling on the function to return x"
   ]
  },
  {
   "cell_type": "code",
   "execution_count": 38,
   "metadata": {},
   "outputs": [
    {
     "name": "stdout",
     "output_type": "stream",
     "text": [
      "oustside\n"
     ]
    }
   ],
   "source": [
    "print(x) # this will return the x on the outside of the function because we are not calling on the function to have it return x"
   ]
  },
  {
   "cell_type": "markdown",
   "metadata": {},
   "source": [
    "### Scope\n",
    "There are four types of scopes:  \n",
    "* LOCAL  \n",
    "* ENCLOSING  \n",
    "* GLOBAL  \n",
    "* BUILT-IN  \n",
    "\n",
    "This is also known as the LEGB Rule.  \n",
    "Let's look at each one of these with an example:"
   ]
  },
  {
   "cell_type": "code",
   "execution_count": 39,
   "metadata": {},
   "outputs": [],
   "source": [
    "# LOCAL \n",
    "def report():\n",
    "    '''\n",
    "    We are testing to earn how Python gets the x value from.\n",
    "    Since the x variable is in the function Python will return the value from inside the function.\n",
    "    '''\n",
    "    x = 'local'\n",
    "    print(x)"
   ]
  },
  {
   "cell_type": "code",
   "execution_count": 57,
   "metadata": {},
   "outputs": [
    {
     "name": "stdout",
     "output_type": "stream",
     "text": [
      "local\n"
     ]
    }
   ],
   "source": [
    "report()"
   ]
  },
  {
   "cell_type": "code",
   "execution_count": 50,
   "metadata": {},
   "outputs": [],
   "source": [
    "# ENCLOSING \n",
    "\n",
    "x = 'THIS IS GLOBAL LEVEL'\n",
    "\n",
    "def enclosing():\n",
    "    '''\n",
    "    We are testing to earn how Python gets the x value from.\n",
    "    '''\n",
    "    x = 'enclosing level'\n",
    "    \n",
    "    def inside():\n",
    "        '''\n",
    "        Python will look inside the Function for the variable x. It will find it in the function in this code block.\n",
    "        '''\n",
    "        print(x)\n",
    "        \n",
    "    inside()"
   ]
  },
  {
   "cell_type": "code",
   "execution_count": 51,
   "metadata": {},
   "outputs": [
    {
     "name": "stdout",
     "output_type": "stream",
     "text": [
      "enclosing level\n"
     ]
    }
   ],
   "source": [
    "enclosing()"
   ]
  },
  {
   "cell_type": "code",
   "execution_count": 45,
   "metadata": {},
   "outputs": [],
   "source": [
    "# GLOBAL \n",
    "# This is almost the same code block as above (function)\n",
    "# But we removed the x assignment in the function enclosing\n",
    "x = 'THIS IS GLOBAL LEVEL'\n",
    "\n",
    "def enclosing():\n",
    "    '''\n",
    "    We are testing to learn how Python gets the x value from.\n",
    "    '''\n",
    "    \n",
    "    def inside():\n",
    "        '''\n",
    "        Python will look for the x variable inside the function first, but when it can not find it in the function. Python will\n",
    "        look outside of the function. hints the name GLOBAL scope.\n",
    "        '''\n",
    "        print(x)\n",
    "        \n",
    "    inside()"
   ]
  },
  {
   "cell_type": "code",
   "execution_count": 52,
   "metadata": {},
   "outputs": [
    {
     "name": "stdout",
     "output_type": "stream",
     "text": [
      "enclosing level\n"
     ]
    }
   ],
   "source": [
    "enclosing() # We are looking for the variable x, but it is not in the function so Python looks outside of the function to find it"
   ]
  },
  {
   "cell_type": "code",
   "execution_count": 58,
   "metadata": {},
   "outputs": [],
   "source": [
    "# Another GLOBAL\n",
    "\n",
    "x = 'Global outside'\n",
    "\n",
    "def myfunc(x):\n",
    "    '''\n",
    "    Function requires an argment and will print out this argment. This will be a Global variable.\n",
    "    '''\n",
    "    print('X is {}'.format(x))\n",
    "    # Here we are going to have a Local variable redefined the value of x inside of this function which will make it a Local scope\n",
    "    x = 'redefined inside myfunc'\n",
    "    print(x)"
   ]
  },
  {
   "cell_type": "code",
   "execution_count": 59,
   "metadata": {},
   "outputs": [
    {
     "name": "stdout",
     "output_type": "stream",
     "text": [
      "X is Global outside\n",
      "redefined inside myfunc\n"
     ]
    }
   ],
   "source": [
    "myfunc(x) # Python will return a Global variable then a Local variable."
   ]
  },
  {
   "cell_type": "markdown",
   "metadata": {},
   "source": [
    "#### Built-in Scope\n",
    "I will try and explain Built-in Scope.  We saw how Python looks for the variable inside of the function that called for the variable first and when Python could not find it in the function then Python looked outside of the function to find the variable. But if the variable is not outside of the function. Python will assume it is a Built-in function, example:  \n",
    "* len  \n",
    "* sum  \n",
    "* print  \n",
    "* str  \n",
    "* int  \n",
    "\n",
    "These are just some of the many different Built-in functions Python uses.  But when Python can not find the variable GLOBAL it looks to see if it is a Built-in.  \n",
    "There is an example below:  "
   ]
  },
  {
   "cell_type": "code",
   "execution_count": 47,
   "metadata": {},
   "outputs": [],
   "source": [
    "# BUILT-IN Scope Example\n",
    "\n",
    "def enclosing():\n",
    "    '''\n",
    "    We are testing to learn how Python gets the y value from.\n",
    "    '''\n",
    "    \n",
    "    def inside():\n",
    "        '''\n",
    "        Python will look for the y variable inside the function first, but when it can not find it in the function. Python will\n",
    "        look outside of the function. In the GLOBAL Scope area. But if Python can't find it in the GLOBAL area, Python will look \n",
    "        in the BUILT-IN Scope area.\n",
    "        '''\n",
    "        print(y)\n",
    "        \n",
    "    inside()"
   ]
  },
  {
   "cell_type": "code",
   "execution_count": 48,
   "metadata": {},
   "outputs": [
    {
     "ename": "NameError",
     "evalue": "name 'y' is not defined",
     "output_type": "error",
     "traceback": [
      "\u001b[1;31m---------------------------------------------------------------------------\u001b[0m",
      "\u001b[1;31mNameError\u001b[0m                                 Traceback (most recent call last)",
      "\u001b[1;32m<ipython-input-48-5a3bb7c8c37f>\u001b[0m in \u001b[0;36m<module>\u001b[1;34m()\u001b[0m\n\u001b[1;32m----> 1\u001b[1;33m \u001b[0menclosing\u001b[0m\u001b[1;33m(\u001b[0m\u001b[1;33m)\u001b[0m\u001b[1;33m\u001b[0m\u001b[0m\n\u001b[0m",
      "\u001b[1;32m<ipython-input-47-e739b0f66834>\u001b[0m in \u001b[0;36menclosing\u001b[1;34m()\u001b[0m\n\u001b[0;32m     14\u001b[0m         \u001b[0mprint\u001b[0m\u001b[1;33m(\u001b[0m\u001b[0my\u001b[0m\u001b[1;33m)\u001b[0m\u001b[1;33m\u001b[0m\u001b[0m\n\u001b[0;32m     15\u001b[0m \u001b[1;33m\u001b[0m\u001b[0m\n\u001b[1;32m---> 16\u001b[1;33m     \u001b[0minside\u001b[0m\u001b[1;33m(\u001b[0m\u001b[1;33m)\u001b[0m\u001b[1;33m\u001b[0m\u001b[0m\n\u001b[0m",
      "\u001b[1;32m<ipython-input-47-e739b0f66834>\u001b[0m in \u001b[0;36minside\u001b[1;34m()\u001b[0m\n\u001b[0;32m     12\u001b[0m         \u001b[1;32min\u001b[0m \u001b[0mthe\u001b[0m \u001b[0mBUILT\u001b[0m\u001b[1;33m-\u001b[0m\u001b[0mIN\u001b[0m \u001b[0mScope\u001b[0m \u001b[0marea\u001b[0m\u001b[1;33m.\u001b[0m\u001b[1;33m\u001b[0m\u001b[0m\n\u001b[0;32m     13\u001b[0m         '''\n\u001b[1;32m---> 14\u001b[1;33m         \u001b[0mprint\u001b[0m\u001b[1;33m(\u001b[0m\u001b[0my\u001b[0m\u001b[1;33m)\u001b[0m\u001b[1;33m\u001b[0m\u001b[0m\n\u001b[0m\u001b[0;32m     15\u001b[0m \u001b[1;33m\u001b[0m\u001b[0m\n\u001b[0;32m     16\u001b[0m     \u001b[0minside\u001b[0m\u001b[1;33m(\u001b[0m\u001b[1;33m)\u001b[0m\u001b[1;33m\u001b[0m\u001b[0m\n",
      "\u001b[1;31mNameError\u001b[0m: name 'y' is not defined"
     ]
    }
   ],
   "source": [
    "enclosing()"
   ]
  },
  {
   "cell_type": "markdown",
   "metadata": {},
   "source": [
    "When Python could not find the variable in the Built-in scope it returns the variable was not defined."
   ]
  },
  {
   "cell_type": "markdown",
   "metadata": {},
   "source": [
    "## Lambda Expressions, Map, Filter\n",
    "We are going to learn about Lambda Expressions, Map, and Filters in Python.  \n",
    "<code><a href=\"https://docs.python.org/3/glossary.html?highlight=lambda#term-lambda\" target=\"_blank\" title=\"Python Lambda Expression\">Lambda Expressions</a></code> are like List Comprehensions; meaning they are most of the time written in one line of code.  \n",
    "<code><a href=\"https://docs.python.org/3/library/functions.html?highlight=map#map\" target=\"_blank\" title=\"Python Built-in Funciton map()\">Map()</a></code>  Allow you to apply functions to a list.  It is a way to apply a function to a lists without having to call on the function and run it through a for loop.    \n",
    "<code><a href=\"https://docs.python.org/3/library/functions.html?highlight=fliter#filter\" target=\"_blank\" title=\"Python Built-in Function filter()\">Filter()</a></code>  Allow you to apply functions to a list.  It returns all values that are True in the function.    \n",
    "Let's look at how we do these Functions:"
   ]
  },
  {
   "cell_type": "markdown",
   "metadata": {},
   "source": [
    "### Map()"
   ]
  },
  {
   "cell_type": "code",
   "execution_count": 64,
   "metadata": {},
   "outputs": [],
   "source": [
    "# Map()\n",
    "my_nums = [1,2,3,4,5,]\n",
    "\n",
    "def square(num):\n",
    "    '''\n",
    "    Square number entered into the argment\n",
    "    '''\n",
    "    return num**2"
   ]
  },
  {
   "cell_type": "code",
   "execution_count": 65,
   "metadata": {},
   "outputs": [
    {
     "name": "stdout",
     "output_type": "stream",
     "text": [
      "1\n",
      "4\n",
      "9\n",
      "16\n",
      "25\n"
     ]
    }
   ],
   "source": [
    "for items in map(square,my_nums):\n",
    "    print(items)"
   ]
  },
  {
   "cell_type": "code",
   "execution_count": 63,
   "metadata": {},
   "outputs": [
    {
     "data": {
      "text/plain": [
       "[1, 4, 9, 16, 25]"
      ]
     },
     "execution_count": 63,
     "metadata": {},
     "output_type": "execute_result"
    }
   ],
   "source": [
    "[items for items in map(square,my_nums)]"
   ]
  },
  {
   "cell_type": "code",
   "execution_count": 66,
   "metadata": {},
   "outputs": [
    {
     "data": {
      "text/plain": [
       "[1, 4, 9, 16, 25]"
      ]
     },
     "execution_count": 66,
     "metadata": {},
     "output_type": "execute_result"
    }
   ],
   "source": [
    "list(map(square,my_nums))"
   ]
  },
  {
   "cell_type": "code",
   "execution_count": 67,
   "metadata": {},
   "outputs": [],
   "source": [
    "# Here is a more complex function with the use of map()\n",
    "my_string = ['A','BB','CCC','DDDD']\n",
    "def splicer(mystring):\n",
    "    '''\n",
    "    Returns if length of string is even the string 'even'\n",
    "    Returns the first letter of the string if the length of the string is not even.\n",
    "    '''\n",
    "    if len(mystring)%2 == 0:\n",
    "        return 'even'\n",
    "    else:\n",
    "        return mystring[0]"
   ]
  },
  {
   "cell_type": "code",
   "execution_count": 68,
   "metadata": {},
   "outputs": [
    {
     "name": "stdout",
     "output_type": "stream",
     "text": [
      "A\n",
      "even\n",
      "C\n",
      "even\n"
     ]
    }
   ],
   "source": [
    "for letter in map(splicer,my_string):\n",
    "    print(letter)"
   ]
  },
  {
   "cell_type": "code",
   "execution_count": 69,
   "metadata": {},
   "outputs": [
    {
     "data": {
      "text/plain": [
       "['A', 'even', 'C', 'even']"
      ]
     },
     "execution_count": 69,
     "metadata": {},
     "output_type": "execute_result"
    }
   ],
   "source": [
    "[letter for letter in map(splicer,my_string)]"
   ]
  },
  {
   "cell_type": "code",
   "execution_count": 70,
   "metadata": {},
   "outputs": [
    {
     "data": {
      "text/plain": [
       "['A', 'even', 'C', 'even']"
      ]
     },
     "execution_count": 70,
     "metadata": {},
     "output_type": "execute_result"
    }
   ],
   "source": [
    "list(map(splicer,my_string))"
   ]
  },
  {
   "cell_type": "markdown",
   "metadata": {},
   "source": [
    "### Filter()"
   ]
  },
  {
   "cell_type": "code",
   "execution_count": 73,
   "metadata": {},
   "outputs": [],
   "source": [
    "# Examples of Filter()\n",
    "\n",
    "nums = [1,2,3,4,5,6,]\n",
    "def check_even(num):\n",
    "    '''\n",
    "    Returns True if the number remainder is 0\n",
    "    '''\n",
    "    return num%2 == 0"
   ]
  },
  {
   "cell_type": "code",
   "execution_count": 74,
   "metadata": {},
   "outputs": [
    {
     "name": "stdout",
     "output_type": "stream",
     "text": [
      "2\n",
      "4\n",
      "6\n"
     ]
    }
   ],
   "source": [
    "for num in filter(check_even,nums):\n",
    "    print(num)"
   ]
  },
  {
   "cell_type": "code",
   "execution_count": 75,
   "metadata": {},
   "outputs": [
    {
     "data": {
      "text/plain": [
       "[2, 4, 6]"
      ]
     },
     "execution_count": 75,
     "metadata": {},
     "output_type": "execute_result"
    }
   ],
   "source": [
    "[num for num in filter(check_even,nums)]"
   ]
  },
  {
   "cell_type": "code",
   "execution_count": 72,
   "metadata": {},
   "outputs": [
    {
     "data": {
      "text/plain": [
       "[2, 4, 6]"
      ]
     },
     "execution_count": 72,
     "metadata": {},
     "output_type": "execute_result"
    }
   ],
   "source": [
    "list(filter(check_even,nums))"
   ]
  },
  {
   "cell_type": "markdown",
   "metadata": {},
   "source": [
    "### Lambda Expression"
   ]
  },
  {
   "cell_type": "code",
   "execution_count": 76,
   "metadata": {},
   "outputs": [],
   "source": [
    "# Example of Lambda expression\n",
    "# I will make a regular function then I will break down how to make it into a lambda expression out of that function\n",
    "def square(num):\n",
    "    return num**2"
   ]
  },
  {
   "cell_type": "code",
   "execution_count": 77,
   "metadata": {},
   "outputs": [
    {
     "data": {
      "text/plain": [
       "9"
      ]
     },
     "execution_count": 77,
     "metadata": {},
     "output_type": "execute_result"
    }
   ],
   "source": [
    "square(3)"
   ]
  },
  {
   "cell_type": "markdown",
   "metadata": {},
   "source": [
    "We can see from above that the function is a working function. Now, let's turn this function into a lambda function.    \n",
    "First we will get rid of the def and the function call name, then put the return on the same line.  \n",
    "<code>(num): return num ** 2</code>  \n",
    "Next we are going to remove the name return and the () around the argument add lambda to the begining of the function.  \n",
    "<code>lambda num: num ** 2</code>"
   ]
  },
  {
   "cell_type": "code",
   "execution_count": 80,
   "metadata": {},
   "outputs": [
    {
     "data": {
      "text/plain": [
       "[1, 4, 9]"
      ]
     },
     "execution_count": 80,
     "metadata": {},
     "output_type": "execute_result"
    }
   ],
   "source": [
    "list(map(lambda num: num**2,[1,2,3]))"
   ]
  },
  {
   "cell_type": "code",
   "execution_count": 82,
   "metadata": {},
   "outputs": [
    {
     "data": {
      "text/plain": [
       "[1, 4, 9, 16]"
      ]
     },
     "execution_count": 82,
     "metadata": {},
     "output_type": "execute_result"
    }
   ],
   "source": [
    "[x for x in map(lambda x: x**2, [1,2,3,4])]"
   ]
  },
  {
   "cell_type": "code",
   "execution_count": 98,
   "metadata": {},
   "outputs": [
    {
     "data": {
      "text/plain": [
       "[2, 6, 12, 16, 84]"
      ]
     },
     "execution_count": 98,
     "metadata": {},
     "output_type": "execute_result"
    }
   ],
   "source": [
    "sorted(list(filter(lambda n:n%2==0, [2,5,12,16,15,91,84,3,6])))"
   ]
  },
  {
   "cell_type": "code",
   "execution_count": 116,
   "metadata": {},
   "outputs": [
    {
     "data": {
      "text/plain": [
       "['T', 'b', 'j', 't', 'f']"
      ]
     },
     "execution_count": 116,
     "metadata": {},
     "output_type": "execute_result"
    }
   ],
   "source": [
    "list(map(lambda s:s[0], 'The boy jumped the fence'.split()))"
   ]
  },
  {
   "cell_type": "code",
   "execution_count": 138,
   "metadata": {},
   "outputs": [
    {
     "data": {
      "text/plain": [
       "[17]"
      ]
     },
     "execution_count": 138,
     "metadata": {},
     "output_type": "execute_result"
    }
   ],
   "source": [
    "list(map(lambda x,y:x+y, [5],[12]))"
   ]
  },
  {
   "cell_type": "code",
   "execution_count": null,
   "metadata": {},
   "outputs": [],
   "source": []
  }
 ],
 "metadata": {
  "kernelspec": {
   "display_name": "Python 3",
   "language": "python",
   "name": "python3"
  }
 },
 "nbformat": 4,
 "nbformat_minor": 2
}
